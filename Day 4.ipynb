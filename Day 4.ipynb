{
 "cells": [
  {
   "cell_type": "markdown",
   "metadata": {},
   "source": [
    "# Numpy"
   ]
  },
  {
   "cell_type": "code",
   "execution_count": 3,
   "metadata": {},
   "outputs": [
    {
     "name": "stdout",
     "output_type": "stream",
     "text": [
      "[[1, 2, 3], [4, 5, 6]]\n",
      "<class 'list'>\n",
      "[[1 2 3]\n",
      " [4 5 6]]\n",
      "(2, 3)\n",
      "2\n",
      "4\n",
      "6\n",
      "<class 'numpy.ndarray'>\n",
      "int32\n"
     ]
    }
   ],
   "source": [
    "import numpy as np\n",
    "a=[[1,2,3],[4,5,6]]\n",
    "print(a)\n",
    "print(type(a))\n",
    "b=np.array(a)\n",
    "print(b)\n",
    "\n",
    "print(b.shape)\n",
    "print(b.ndim)\n",
    "print(b.itemsize)#size of each value here it is integer (number)  4 bytes (space does the int need)\n",
    "print(b.size)\n",
    "print(type(b))\n",
    "print(b.dtype)"
   ]
  },
  {
   "cell_type": "code",
   "execution_count": 2,
   "metadata": {},
   "outputs": [
    {
     "name": "stdout",
     "output_type": "stream",
     "text": [
      "a = [[1 2 3]\n",
      " [4 5 6]]\n",
      "the shape of my array is =  (2, 3)\n",
      "the Dimensional of my array is =  2\n",
      "the size in bytes of each element of my array is =  4\n",
      "the total number of elements of my array is =  6\n",
      "the type of the elements in my array is  <class 'numpy.ndarray'>\n"
     ]
    }
   ],
   "source": [
    "import numpy as np\n",
    "data = [[1,2,3] , [4,5,6]]\n",
    "a = np.array(data)\n",
    "\n",
    "print('a =' ,a)\n",
    "print('the shape of my array is = ' , a.shape)\n",
    "print('the Dimensional of my array is = ' , a.ndim)\n",
    "print('the size in bytes of each element of my array is = ', a.itemsize)\n",
    "print('the total number of elements of my array is = ', a.size)\n",
    "print('the type of the elements in my array is ' , type(a))"
   ]
  },
  {
   "cell_type": "code",
   "execution_count": 4,
   "metadata": {},
   "outputs": [
    {
     "name": "stdout",
     "output_type": "stream",
     "text": [
      "[11 22 33 44 55]\n",
      "[[11 22 33]\n",
      " [44 55 66]]\n"
     ]
    }
   ],
   "source": [
    "#Array Creation\n",
    "# list of data\n",
    "data1 = [11, 22, 33, 44, 55]\n",
    "data2 = [[11, 22, 33], [44, 55, 66]]\n",
    "\n",
    "# array of data\n",
    "data1 = np.array(data1)\n",
    "data2 = np.array(data2)\n",
    "print(data1)\n",
    "print(data2)"
   ]
  },
  {
   "cell_type": "code",
   "execution_count": 7,
   "metadata": {},
   "outputs": [
    {
     "name": "stdout",
     "output_type": "stream",
     "text": [
      "[ 1  2  3  4  5  6  7  8  9 10]\n",
      "[ 1  2  3  4  5  6  7  8  9 10]\n",
      "int32\n",
      "[ 1.  2.  3.  4.  5.  6.  7.  8.  9. 10.]\n",
      "float64\n"
     ]
    }
   ],
   "source": [
    "#Challenge \n",
    "import numpy as np\n",
    "x=np.array([1,2,3,4,5,6,7,8,9,10])\n",
    "print(x)\n",
    "a1=x.astype(int)\n",
    "print(a1)\n",
    "print(a1.dtype)#type(a1)\n",
    "a2=x.astype(float)\n",
    "print(a2)\n",
    "print(a2.dtype)"
   ]
  },
  {
   "cell_type": "code",
   "execution_count": 6,
   "metadata": {},
   "outputs": [
    {
     "name": "stdout",
     "output_type": "stream",
     "text": [
      "[range(0, 4), range(10, 14)]\n",
      "[[ 0  1  2  3]\n",
      " [10 11 12 13]]\n",
      "(2, 4)\n",
      "8\n",
      "13\n",
      "0\n"
     ]
    }
   ],
   "source": [
    "#challenge\n",
    "import numpy as np\n",
    "x=(range(4),range(10,14))\n",
    "#print(x)\n",
    "arr=np.array(x)\n",
    "print(arr)\n",
    "print(arr.shape)\n",
    "print(arr.size)\n",
    "print(np.amax(arr))\n",
    "print(np.amin(arr))\n"
   ]
  },
  {
   "cell_type": "code",
   "execution_count": 9,
   "metadata": {},
   "outputs": [
    {
     "name": "stdout",
     "output_type": "stream",
     "text": [
      "[[1 2 3]\n",
      " [4 5 6]\n",
      " [7 8 9]]\n",
      "(3, 3)\n",
      "9\n",
      "9\n",
      "1\n",
      "2\n",
      "4\n",
      "int32\n",
      "[[1. 1. 1.]\n",
      " [1. 1. 1.]\n",
      " [1. 1. 1.]]\n",
      "[[[0. 0. 0. 0.]\n",
      "  [0. 0. 0. 0.]\n",
      "  [0. 0. 0. 0.]]\n",
      "\n",
      " [[0. 0. 0. 0.]\n",
      "  [0. 0. 0. 0.]\n",
      "  [0. 0. 0. 0.]]]\n",
      "[[[1. 1. 1. 1.]\n",
      "  [1. 1. 1. 1.]\n",
      "  [1. 1. 1. 1.]]\n",
      "\n",
      " [[1. 1. 1. 1.]\n",
      "  [1. 1. 1. 1.]\n",
      "  [1. 1. 1. 1.]]]\n",
      "[  0   3   6   9  12  15  18  21  24  27  30  33  36  39  42  45  48  51\n",
      "  54  57  60  63  66  69  72  75  78  81  84  87  90  93  96  99 102 105\n",
      " 108 111 114 117 120 123 126 129 132 135 138 141 144 147 150 153 156 159\n",
      " 162 165 168 171 174 177 180 183 186 189 192 195 198 201 204 207 210 213\n",
      " 216 219 222 225 228 231 234 237 240 243 246 249 252 255 258 261 264 267\n",
      " 270 273 276 279 282 285 288 291 294 297 300 303 306 309 312 315 318 321\n",
      " 324 327 330 333 336 339 342 345 348 351 354 357 360 363 366 369 372 375\n",
      " 378 381 384 387 390 393 396 399 402 405 408 411 414 417 420 423 426 429\n",
      " 432 435 438 441 444 447 450 453 456 459 462 465 468 471 474 477 480 483\n",
      " 486 489 492 495 498 501 504 507 510 513 516 519 522 525 528 531 534 537\n",
      " 540 543 546 549 552 555 558 561 564 567 570 573 576 579 582 585 588 591\n",
      " 594 597 600 603 606 609 612 615 618 621 624 627 630 633 636 639 642 645\n",
      " 648 651 654 657 660 663 666 669 672 675 678 681 684 687 690 693 696 699\n",
      " 702 705 708 711 714 717 720 723 726 729 732 735 738 741 744 747 750 753\n",
      " 756 759 762 765 768 771 774 777 780 783 786 789 792 795 798 801 804 807\n",
      " 810 813 816 819 822 825 828 831 834 837 840 843 846 849 852 855 858 861\n",
      " 864 867 870 873 876 879 882 885 888 891 894 897 900 903 906 909 912 915\n",
      " 918 921 924 927 930 933 936 939 942 945 948 951 954 957 960 963 966 969\n",
      " 972 975 978 981 984 987 990 993 996]\n",
      "[0.   0.25 0.5  0.75 1.   1.25 1.5  1.75 2.  ]\n"
     ]
    }
   ],
   "source": [
    "#challenge\n",
    "import numpy as n\n",
    "x=([1,2,3],[4,5,6],[7,8,9])\n",
    "arr=np.array(x)\n",
    "print(arr)\n",
    "print(arr.shape)\n",
    "print(arr.size)\n",
    "print(np.amax(arr))\n",
    "print(np.amin(arr))\n",
    "print(arr.ndim)\n",
    "print(arr.itemsize)\n",
    "print(arr.dtype)\n",
    "\n"
   ]
  },
  {
   "cell_type": "code",
   "execution_count": 7,
   "metadata": {},
   "outputs": [
    {
     "name": "stdout",
     "output_type": "stream",
     "text": [
      "[[1. 1. 1.]\n",
      " [1. 1. 1.]\n",
      " [1. 1. 1.]]\n",
      "[[[0. 0. 0. 0.]\n",
      "  [0. 0. 0. 0.]\n",
      "  [0. 0. 0. 0.]]\n",
      "\n",
      " [[0. 0. 0. 0.]\n",
      "  [0. 0. 0. 0.]\n",
      "  [0. 0. 0. 0.]]]\n",
      "[[[1. 1. 1. 1.]\n",
      "  [1. 1. 1. 1.]\n",
      "  [1. 1. 1. 1.]]\n",
      "\n",
      " [[1. 1. 1. 1.]\n",
      "  [1. 1. 1. 1.]\n",
      "  [1. 1. 1. 1.]]]\n",
      "[  0   3   6   9  12  15  18  21  24  27  30  33  36  39  42  45  48  51\n",
      "  54  57  60  63  66  69  72  75  78  81  84  87  90  93  96  99 102 105\n",
      " 108 111 114 117 120 123 126 129 132 135 138 141 144 147 150 153 156 159\n",
      " 162 165 168 171 174 177 180 183 186 189 192 195 198 201 204 207 210 213\n",
      " 216 219 222 225 228 231 234 237 240 243 246 249 252 255 258 261 264 267\n",
      " 270 273 276 279 282 285 288 291 294 297 300 303 306 309 312 315 318 321\n",
      " 324 327 330 333 336 339 342 345 348 351 354 357 360 363 366 369 372 375\n",
      " 378 381 384 387 390 393 396 399 402 405 408 411 414 417 420 423 426 429\n",
      " 432 435 438 441 444 447 450 453 456 459 462 465 468 471 474 477 480 483\n",
      " 486 489 492 495 498 501 504 507 510 513 516 519 522 525 528 531 534 537\n",
      " 540 543 546 549 552 555 558 561 564 567 570 573 576 579 582 585 588 591\n",
      " 594 597 600 603 606 609 612 615 618 621 624 627 630 633 636 639 642 645\n",
      " 648 651 654 657 660 663 666 669 672 675 678 681 684 687 690 693 696 699\n",
      " 702 705 708 711 714 717 720 723 726 729 732 735 738 741 744 747 750 753\n",
      " 756 759 762 765 768 771 774 777 780 783 786 789 792 795 798 801 804 807\n",
      " 810 813 816 819 822 825 828 831 834 837 840 843 846 849 852 855 858 861\n",
      " 864 867 870 873 876 879 882 885 888 891 894 897 900 903 906 909 912 915\n",
      " 918 921 924 927 930 933 936 939 942 945 948 951 954 957 960 963 966 969\n",
      " 972 975 978 981 984 987 990 993 996]\n",
      "[0.   0.25 0.5  0.75 1.   1.25 1.5  1.75 2.  ]\n"
     ]
    }
   ],
   "source": [
    "s=np.ones((3,3))\n",
    "print(s)\n",
    "y=np.zeros((2,3,4))\n",
    "print(y)\n",
    "v=np.ones((2,3,4))\n",
    "print(v)\n"
   ]
  },
  {
   "cell_type": "code",
   "execution_count": 8,
   "metadata": {},
   "outputs": [
    {
     "name": "stdout",
     "output_type": "stream",
     "text": [
      "[  0   3   6   9  12  15  18  21  24  27  30  33  36  39  42  45  48  51\n",
      "  54  57  60  63  66  69  72  75  78  81  84  87  90  93  96  99 102 105\n",
      " 108 111 114 117 120 123 126 129 132 135 138 141 144 147 150 153 156 159\n",
      " 162 165 168 171 174 177 180 183 186 189 192 195 198 201 204 207 210 213\n",
      " 216 219 222 225 228 231 234 237 240 243 246 249 252 255 258 261 264 267\n",
      " 270 273 276 279 282 285 288 291 294 297 300 303 306 309 312 315 318 321\n",
      " 324 327 330 333 336 339 342 345 348 351 354 357 360 363 366 369 372 375\n",
      " 378 381 384 387 390 393 396 399 402 405 408 411 414 417 420 423 426 429\n",
      " 432 435 438 441 444 447 450 453 456 459 462 465 468 471 474 477 480 483\n",
      " 486 489 492 495 498 501 504 507 510 513 516 519 522 525 528 531 534 537\n",
      " 540 543 546 549 552 555 558 561 564 567 570 573 576 579 582 585 588 591\n",
      " 594 597 600 603 606 609 612 615 618 621 624 627 630 633 636 639 642 645\n",
      " 648 651 654 657 660 663 666 669 672 675 678 681 684 687 690 693 696 699\n",
      " 702 705 708 711 714 717 720 723 726 729 732 735 738 741 744 747 750 753\n",
      " 756 759 762 765 768 771 774 777 780 783 786 789 792 795 798 801 804 807\n",
      " 810 813 816 819 822 825 828 831 834 837 840 843 846 849 852 855 858 861\n",
      " 864 867 870 873 876 879 882 885 888 891 894 897 900 903 906 909 912 915\n",
      " 918 921 924 927 930 933 936 939 942 945 948 951 954 957 960 963 966 969\n",
      " 972 975 978 981 984 987 990 993 996]\n",
      "[0.   0.25 0.5  0.75 1.   1.25 1.5  1.75 2.  ]\n"
     ]
    }
   ],
   "source": [
    "f=np.arange(0,999,3)\n",
    "print(f)\n",
    "g=np.linspace(0,2,9)\n",
    "print(g)"
   ]
  },
  {
   "cell_type": "code",
   "execution_count": 4,
   "metadata": {},
   "outputs": [
    {
     "name": "stdout",
     "output_type": "stream",
     "text": [
      "[20 31 42 53]\n",
      "[20 29 38 47]\n",
      "[0 1 4 9]\n",
      "[20 31 42 53]\n",
      "[  0  31  84 159]\n",
      "[1 2 3]\n",
      "6\n",
      "[ True  True  True  True]\n",
      "[ True  True  True False]\n",
      "[ True  True  True]\n",
      "[False False False False False]\n",
      "[False False False False  True]\n",
      "[ True  True  True  True False]\n"
     ]
    }
   ],
   "source": [
    "#Element Wise OPeration\n",
    "#Sum\n",
    "import numpy as np\n",
    "a=np.array([20,30,40,50])\n",
    "b=np.arange(4)\n",
    "c=a+b\n",
    "print(c)\n",
    "\n",
    "#Difference\n",
    "a=np.array([20,30,40,50])\n",
    "b=np.arange(4)#[0 1 2 3]\n",
    "c=a-b\n",
    "print(c)\n",
    "\n",
    "#Square of elements\n",
    "\n",
    "b=np.arange(4)#[0 1 2 3]\n",
    "c=b**2\n",
    "print(c)\n",
    "\n",
    "#INcrement Operators\n",
    "a=np.array([20,30,40,50])\n",
    "b=np.arange(4)#[0 1 2 3]\n",
    "a+=b#  a=a+b\n",
    "print(a)\n",
    "a*=b\n",
    "print(a)\n",
    "\n",
    "#SAMPLE:\n",
    "import numpy as np\n",
    "#v=n.ones((3,3))\n",
    "v=np.array([1,2,3])\n",
    "v2=np.array([1,1,1])\n",
    "C=v*v2#Not matrix multiplication\n",
    "print(C)\n",
    "m=v.dot(v2)#Matrix multiplication\n",
    "print(m)\n",
    "\n",
    "#Comparison Operator\n",
    "a=np.array([20,30,40,50])\n",
    "b=np.arange(4)\n",
    "c=np.array([0,1,2,4])\n",
    "print(a>b)\n",
    "print(b==c)\n",
    "\n",
    "#SAMPLE 2\n",
    "import numpy as np\n",
    "v=np.array([1,0,1])\n",
    "v2=np.array([1,1,1])\n",
    "print(np.logical_or(v,v2))#[true true  true]\n",
    "\n",
    "import numpy as np\n",
    "a=np.array([0,0,0,0,1])\n",
    "b=np.array([1,1,1,1,0])\n",
    "print(np.logical_and(a,b))#false \n",
    "print(np.logical_not(a==0))\n",
    "print(np.logical_not(b==0))"
   ]
  },
  {
   "cell_type": "code",
   "execution_count": 5,
   "metadata": {},
   "outputs": [
    {
     "name": "stdout",
     "output_type": "stream",
     "text": [
      "[1 2 3]\n",
      "6\n"
     ]
    }
   ],
   "source": [
    "import numpy as np\n",
    "#v=n.ones((3,3))\n",
    "v=np.array([1,2,3])\n",
    "v2=np.array([1,1,1])\n",
    "C=v*v2#Not matrix multiplication\n",
    "print(C)\n",
    "m=v.dot(v2)#Matrix multiplication\n",
    "print(m)"
   ]
  },
  {
   "cell_type": "code",
   "execution_count": 6,
   "metadata": {},
   "outputs": [
    {
     "name": "stdout",
     "output_type": "stream",
     "text": [
      "[[  0  -1   2   0]\n",
      " [ 20 -11  12   0]]\n",
      "[ 200 -100  100    0]\n",
      "[ 200. -100.  100.    0.]\n",
      "[ True  True  True  True]\n",
      "int32\n",
      "float64\n"
     ]
    }
   ],
   "source": [
    "#Challenge\n",
    "#challenge\n",
    "import numpy as np\n",
    "a=np.array([range(4),range(10,14)])\n",
    "b=np.array([2,-1,1,0])\n",
    "c=a*b\n",
    "print(c)\n",
    "b1=b*100\n",
    "b2=b*100.0\n",
    "print(b1)\n",
    "print(b2)\n",
    "print(b1==b2)\n",
    "print(b1.dtype)\n",
    "print(b2.dtype)\n"
   ]
  },
  {
   "cell_type": "code",
   "execution_count": 7,
   "metadata": {},
   "outputs": [
    {
     "name": "stdout",
     "output_type": "stream",
     "text": [
      "var =  [1 3 5]\n",
      "Sum result =  9\n"
     ]
    }
   ],
   "source": [
    "#Computing sum\n",
    "from numpy import array\n",
    "var = np.array( [1, 3, 5] )\n",
    "print('var = ' , var)\n",
    "\n",
    "s = var.sum()\n",
    "print('Sum result = ' , s)"
   ]
  },
  {
   "cell_type": "code",
   "execution_count": 14,
   "metadata": {},
   "outputs": [
    {
     "name": "stdout",
     "output_type": "stream",
     "text": [
      "1\n",
      "3\n",
      "0\n",
      "1\n"
     ]
    }
   ],
   "source": [
    "#Basic Universal Functions\n",
    "x = np.array([1, 3, 2])\n",
    "print(x.min())\n",
    "print(x.max())\n",
    "print(x.argmin())#position of the minimum value argument\n",
    "print(x.argmax())"
   ]
  },
  {
   "cell_type": "code",
   "execution_count": 15,
   "metadata": {},
   "outputs": [
    {
     "name": "stdout",
     "output_type": "stream",
     "text": [
      "1.75\n",
      "1.5\n",
      "[2. 5.]\n",
      "0.82915619758885\n"
     ]
    }
   ],
   "source": [
    "x = np.array([1, 2, 3, 1])\n",
    "y = np.array([[1, 2, 3], [5, 6, 1]])\n",
    "print(x.mean())\n",
    "\n",
    "print(np.median(x))\n",
    "\n",
    "print(np.median(y, axis=-1)) # last axis\n",
    "\n",
    "print(x.std()) # full population standard dev."
   ]
  },
  {
   "cell_type": "code",
   "execution_count": 10,
   "metadata": {},
   "outputs": [
    {
     "name": "stdout",
     "output_type": "stream",
     "text": [
      "[[1 1]\n",
      " [2 5]]\n",
      "[3 6]\n",
      "3\n",
      "6\n",
      "[2 7]\n",
      "2\n",
      "7\n"
     ]
    }
   ],
   "source": [
    "#Sum by rows and by columns\n",
    "\n",
    "x=np.array([[1,1],[2,5]])\n",
    "print(x)\n",
    "print(x.sum(axis=0))#By columns\n",
    "print(x[:,0].sum())#All rows and 1st coloumn\n",
    "print(x[:,1].sum())#All rows and 2nd column\n",
    "print(x.sum(axis=1))#By rows\n",
    "print(x[0,:].sum())#All columns and 1st row\n",
    "print(x[1,:].sum())#All columns and 2nd row\n"
   ]
  },
  {
   "cell_type": "code",
   "execution_count": 19,
   "metadata": {},
   "outputs": [
    {
     "name": "stdout",
     "output_type": "stream",
     "text": [
      "First Array + Second Array\n",
      "[[ 1.  2.  3.]\n",
      " [11. 12. 13.]\n",
      " [21. 22. 23.]\n",
      " [31. 32. 33.]]\n"
     ]
    }
   ],
   "source": [
    " #Broadcasting\n",
    "a = np.array([[0.0,0.0,0.0],[10.0,10.0,10.0],[20.0,20.0,20.0],[30.0,30.0,30.0]]) \n",
    "b = np.array([1.0,2.0,3.0])  \n",
    "   \n",
    "print('First Array + Second Array') \n",
    "print(a + b)\n"
   ]
  },
  {
   "cell_type": "code",
   "execution_count": 21,
   "metadata": {},
   "outputs": [
    {
     "name": "stdout",
     "output_type": "stream",
     "text": [
      "False\n",
      "True\n"
     ]
    }
   ],
   "source": [
    "# Logical Operaions\n",
    "print(np.all([True,True,False]))\n",
    "print(np.any([True,True,False]))\n"
   ]
  },
  {
   "cell_type": "code",
   "execution_count": 23,
   "metadata": {},
   "outputs": [
    {
     "name": "stdout",
     "output_type": "stream",
     "text": [
      "[[ 0  1  2  3]\n",
      " [ 4  5  6  7]\n",
      " [ 8  9 10 11]]\n",
      "[[ 4  5  6  7]\n",
      " [ 8  9 10 11]]\n",
      "[[ 0  2]\n",
      " [ 4  6]\n",
      " [ 8 10]]\n",
      "[ 4 10]\n"
     ]
    }
   ],
   "source": [
    "#Indexing with Boolean Arrays\n",
    "a=np.arange(12).reshape(3,4)\n",
    "print(a)\n",
    "b1=np.array([False,True,True])\n",
    "b2=np.array([True,False,True,False])\n",
    "z=a[b1,:] # b1 row all columns\n",
    "print(z)\n",
    "z1=a[:,b2] # all rows but b2 column wherever is true\n",
    "print(z1)\n",
    "print(a[b1,b2])\n",
    "\n"
   ]
  },
  {
   "cell_type": "code",
   "execution_count": 25,
   "metadata": {},
   "outputs": [
    {
     "name": "stdout",
     "output_type": "stream",
     "text": [
      "[[0. 0. 0. ... 0. 0. 0.]\n",
      " [0. 0. 0. ... 0. 0. 0.]\n",
      " [0. 0. 0. ... 0. 0. 0.]\n",
      " ...\n",
      " [0. 0. 0. ... 0. 0. 0.]\n",
      " [0. 0. 0. ... 0. 0. 0.]\n",
      " [0. 0. 0. ... 0. 0. 0.]]\n",
      "False\n",
      "True\n",
      "[ True  True  True  True]\n",
      "[ True  True  True  True]\n"
     ]
    },
    {
     "data": {
      "text/plain": [
       "True"
      ]
     },
     "execution_count": 25,
     "metadata": {},
     "output_type": "execute_result"
    }
   ],
   "source": [
    "#UNiversal Functions\n",
    "a=np.zeros((100,100))\n",
    "print(a)\n",
    "print(np.any(a!=0))\n",
    "print(np.all(a==a))\n",
    "a=np.array([1,2,3,2])\n",
    "b=np.array([2,2,3,2])\n",
    "c=np.array([6,4,4,5])\n",
    "print(a<=b)\n",
    "print(b<=c)\n",
    "((a<=b)&(b<=c)).all() # & logical and \n"
   ]
  },
  {
   "cell_type": "code",
   "execution_count": 26,
   "metadata": {},
   "outputs": [
    {
     "name": "stdout",
     "output_type": "stream",
     "text": [
      "[ True  True  True False False False False False False False]\n",
      "[0 1 2]\n",
      "[ True  True  True False False False False False False  True]\n",
      "[0 1 2 9]\n",
      "[  0   5  10 -15 -20 -25 -30 -35 -40  45]\n"
     ]
    }
   ],
   "source": [
    "#Challenege\n",
    "import numpy as np\n",
    "arr=np.array([0,1,2,3,4,5,6,7,8,9])\n",
    "x=arr<3\n",
    "print(x)#prints the boolean values in the array that satisy the condition\n",
    "y=arr[arr<3]\n",
    "print(y)#prints the values in the array that satisy the condition\n",
    "z=((arr < 3) | (arr > 8)) # | logical or\n",
    "print(z)\n",
    "print(arr[z])\n",
    "result = np.where(((arr < 3) | (arr > 8)),arr*5,arr*-5)\n",
    "print(result)\n"
   ]
  },
  {
   "cell_type": "code",
   "execution_count": 27,
   "metadata": {},
   "outputs": [
    {
     "name": "stdout",
     "output_type": "stream",
     "text": [
      "[11 22 33 44 55]\n",
      "[11]\n",
      "[44 55]\n"
     ]
    }
   ],
   "source": [
    "#One Dimensional Slicing\n",
    "data=np.array([11,22,33,44,55])\n",
    "print(data[:])\n",
    "print(data[0:1])\n",
    "print(data[-2:])\n",
    "\n"
   ]
  },
  {
   "cell_type": "code",
   "execution_count": 28,
   "metadata": {},
   "outputs": [
    {
     "name": "stdout",
     "output_type": "stream",
     "text": [
      "[0 1 2 3 4 5 6 7 8 9]\n",
      "[2 5 8]\n"
     ]
    }
   ],
   "source": [
    "a=np.arange(10)\n",
    "print(a)\n",
    "slicea=a[2:9:3]\n",
    "print(slicea)\n"
   ]
  },
  {
   "cell_type": "code",
   "execution_count": 33,
   "metadata": {},
   "outputs": [
    {
     "name": "stdout",
     "output_type": "stream",
     "text": [
      "[0 1 2 3 4 5 6 7 8 9]\n",
      "[0 1 2 3 4]\n",
      "[5 6 7 8 9]\n",
      "[4 5 6]\n",
      "[0 2 4 6 8]\n",
      "[1 3 5 7 9]\n",
      "[9 8 7 6 5 4 3 2 1 0]\n",
      "[5 3 1]\n"
     ]
    }
   ],
   "source": [
    "x=np.arange(10)\n",
    "print(x)\n",
    "print(x[:5])\n",
    "print(x[5:])\n",
    "print(x[4:7]) \n",
    "print(x[::2])\n",
    "print(x[1::2])\n",
    "print(x[::-1])#print reverse order of list\n",
    "print(x[5::-2])"
   ]
  },
  {
   "cell_type": "code",
   "execution_count": 34,
   "metadata": {},
   "outputs": [
    {
     "name": "stdout",
     "output_type": "stream",
     "text": [
      "[1 2 3]\n",
      "[2 3 4]\n",
      "[1 2 3 2 3 4]\n",
      "[1 2 3]\n",
      "[2 3 4]\n",
      "[[1 2 3]\n",
      " [2 3 4]]\n"
     ]
    }
   ],
   "source": [
    "#Stacking together\n",
    "a=np.array((1,2,3))\n",
    "b=np.array((2,3,4))\n",
    "c=np.hstack([a,b])\n",
    "print(a)\n",
    "print(b)\n",
    "print(c)\n",
    "a=np.array((1,2,3))\n",
    "b=np.array((2,3,4))\n",
    "c=np.vstack((a,b))\n",
    "print(a)\n",
    "print(b)\n",
    "print(c)\n"
   ]
  },
  {
   "cell_type": "code",
   "execution_count": 37,
   "metadata": {},
   "outputs": [
    {
     "name": "stdout",
     "output_type": "stream",
     "text": [
      "[array([[1, 2],\n",
      "       [4, 5],\n",
      "       [2, 3],\n",
      "       [3, 5]]), array([[3, 4],\n",
      "       [6, 7],\n",
      "       [4, 5],\n",
      "       [6, 6]])]\n",
      "[array([[1, 2, 3, 4],\n",
      "       [4, 5, 6, 7]]), array([[2, 3, 4, 5],\n",
      "       [3, 5, 6, 6]])]\n"
     ]
    }
   ],
   "source": [
    "#Split into smaller ones\n",
    "x=np.array([[1,2,3,4],\n",
    "            [4,5,6,7],\n",
    "            [2,3,4,5],\n",
    "            [3,5,6,6]])\n",
    "y=np.hsplit(x,2)\n",
    "print(y)\n",
    "z=np.vsplit(x,2)\n",
    "print(z)\n"
   ]
  },
  {
   "cell_type": "code",
   "execution_count": 38,
   "metadata": {},
   "outputs": [
    {
     "name": "stdout",
     "output_type": "stream",
     "text": [
      "[[1. 2.]\n",
      " [3. 4.]]\n",
      "[[-2.   1. ]\n",
      " [ 1.5 -0.5]]\n",
      "[[-3.]\n",
      " [ 4.]]\n",
      "[[1. 0. 0.]\n",
      " [0. 1. 0.]\n",
      " [0. 0. 1.]]\n"
     ]
    }
   ],
   "source": [
    "a6=np.array([[1.0,2.0],[3.0,4.0]])\n",
    "print(a6)\n",
    "print(np.c(a6)) #linear algebra inv inversie\n",
    "a7=np.array([[5.],[7.]])\n",
    "print(np.linalg.solve(a6,a7))\n",
    "u=np.eye(3)# Diagnal matrix\n",
    "print(u)"
   ]
  },
  {
   "cell_type": "code",
   "execution_count": 39,
   "metadata": {},
   "outputs": [
    {
     "name": "stdout",
     "output_type": "stream",
     "text": [
      "[0 1 2 3 4 5 6 7]\n",
      "[[[0 1]\n",
      "  [2 3]]\n",
      "\n",
      " [[4 5]\n",
      "  [6 7]]]\n",
      "[[[0 4]\n",
      "  [2 6]]\n",
      "\n",
      " [[1 5]\n",
      "  [3 7]]]\n",
      "[0 1 2 3 4 5 6 7]\n",
      "[[[0. 1.]\n",
      "  [2. 3.]]\n",
      "\n",
      " [[4. 5.]\n",
      "  [6. 7.]]]\n"
     ]
    }
   ],
   "source": [
    "#Challenge\n",
    "arr=np.arange(8)\n",
    "print(arr)\n",
    "arr1=arr.reshape(2,2,2)#no of matrix,rows,cols\n",
    "print(arr1)\n",
    "print(arr1.T)# transpose(rows into cols cols into rows)\n",
    "print(arr1.ravel()) #sinale dimension of matrix\n",
    "print(arr1.astype(float)) # convert your values into float"
   ]
  },
  {
   "cell_type": "code",
   "execution_count": 40,
   "metadata": {},
   "outputs": [
    {
     "name": "stdout",
     "output_type": "stream",
     "text": [
      "Before\n",
      "[ 0  1  2  3  4  5  6  7  8  9 10 11]\n",
      "After\n",
      "[500   1   2   3   4   5   6   7   8   9  10  11]\n",
      "[500   1   2   3   4   5   6   7   8   9  10  11]\n"
     ]
    }
   ],
   "source": [
    "#Shallow Copy(no new objects are created)\n",
    "import numpy as np\n",
    "a=np.arange(12)\n",
    "print('Before')\n",
    "print(a)\n",
    "b=a\n",
    "b[0]=500\n",
    "print('After')\n",
    "print(a)\n",
    "print(b)"
   ]
  },
  {
   "cell_type": "code",
   "execution_count": 41,
   "metadata": {
    "scrolled": true
   },
   "outputs": [
    {
     "name": "stdout",
     "output_type": "stream",
     "text": [
      "Before\n",
      "[ 0  1  2  3  4  5  6  7  8  9 10 11]\n",
      "After\n",
      "[ 0  1  2  3  4  5  6  7  8  9 10 11]\n",
      "[500   1   2   3   4   5   6   7   8   9  10  11]\n"
     ]
    }
   ],
   "source": [
    "#Deep Copy(new object is created)\n",
    "import numpy as np\n",
    "a=np.arange(12)\n",
    "print('Before')\n",
    "print(a)\n",
    "b=a.copy()\n",
    "b[0]=500\n",
    "print('After')\n",
    "print(a)\n",
    "print(b)"
   ]
  },
  {
   "cell_type": "markdown",
   "metadata": {},
   "source": [
    "# Pandas"
   ]
  },
  {
   "cell_type": "markdown",
   "metadata": {},
   "source": [
    "# Series"
   ]
  },
  {
   "cell_type": "code",
   "execution_count": 42,
   "metadata": {},
   "outputs": [
    {
     "name": "stdout",
     "output_type": "stream",
     "text": [
      "0    1\n",
      "1    3\n",
      "2    5\n",
      "3    6\n",
      "dtype: int64\n",
      "A1    1\n",
      "A2    3\n",
      "A3    5\n",
      "A4    6\n",
      "dtype: int64\n"
     ]
    }
   ],
   "source": [
    "#Create Series from the list\n",
    "import pandas as pd\n",
    "print(pd.Series([1,3,5,6]))\n",
    "print(pd.Series([1,3,5,6],index=['A1','A2','A3','A4']))"
   ]
  },
  {
   "cell_type": "code",
   "execution_count": 43,
   "metadata": {},
   "outputs": [
    {
     "name": "stdout",
     "output_type": "stream",
     "text": [
      "2017-01-01    101.553013\n",
      "2017-01-02     95.022343\n",
      "2017-01-03    102.952124\n",
      "2017-01-04     87.991674\n",
      "2017-01-05     94.610565\n",
      "                 ...    \n",
      "2017-04-06    105.454778\n",
      "2017-04-07    106.008405\n",
      "2017-04-08    101.143495\n",
      "2017-04-09    100.483061\n",
      "2017-04-10     95.986890\n",
      "Freq: D, Length: 100, dtype: float64\n"
     ]
    }
   ],
   "source": [
    "#Create series from np as array\n",
    "a=np.random.randn(100)*5+100\n",
    "date=pd.date_range('20170101',periods=100)\n",
    "s=pd.Series(a,index=date)\n",
    "print(s)"
   ]
  },
  {
   "cell_type": "code",
   "execution_count": 44,
   "metadata": {},
   "outputs": [
    {
     "name": "stdout",
     "output_type": "stream",
     "text": [
      "A1    5\n",
      "A2    3\n",
      "A3    6\n",
      "A4    2\n",
      "dtype: int64\n"
     ]
    }
   ],
   "source": [
    "#Create Series from Dictionary\n",
    "a2={'A1':5,'A2':3,'A3':6,'A4':2}\n",
    "s1=pd.Series(a2)\n",
    "print(s1)"
   ]
  },
  {
   "cell_type": "code",
   "execution_count": 45,
   "metadata": {},
   "outputs": [
    {
     "name": "stdout",
     "output_type": "stream",
     "text": [
      "a    2\n",
      "b    4\n",
      "c    6\n",
      "d    8\n",
      "dtype: int64\n",
      "a    0\n",
      "b    0\n",
      "c    0\n",
      "d    0\n",
      "dtype: int64\n",
      "a     1\n",
      "b     4\n",
      "c     9\n",
      "d    16\n",
      "dtype: int64\n",
      "a    1.0\n",
      "b    1.0\n",
      "c    1.0\n",
      "d    1.0\n",
      "dtype: float64\n"
     ]
    }
   ],
   "source": [
    "#Series Arithmetic\n",
    "a3=pd.Series([1,2,3,4],index=['a','b','c','d'])\n",
    "a4=pd.Series([4,3,2,1],index=['d','c','b','a'])\n",
    "print(a3+a4)\n",
    "print(a3-a4)\n",
    "print(a3*a4)\n",
    "print(a3/a4)"
   ]
  },
  {
   "cell_type": "code",
   "execution_count": 46,
   "metadata": {},
   "outputs": [
    {
     "name": "stdout",
     "output_type": "stream",
     "text": [
      "Index(['a', 'b', 'c', 'd'], dtype='object')\n",
      "[1 2 3 4]\n",
      "4\n"
     ]
    }
   ],
   "source": [
    "#Series Attributes\n",
    "print(a3.index)\n",
    "print(a3.values)\n",
    "print(len(a3))\n"
   ]
  },
  {
   "cell_type": "code",
   "execution_count": 47,
   "metadata": {},
   "outputs": [
    {
     "name": "stdout",
     "output_type": "stream",
     "text": [
      "2017-01-01    101.553013\n",
      "2017-01-02     95.022343\n",
      "2017-01-03    102.952124\n",
      "2017-01-04     87.991674\n",
      "2017-01-05     94.610565\n",
      "Freq: D, dtype: float64\n",
      "2017-01-01    101.553013\n",
      "2017-01-02     95.022343\n",
      "2017-01-03    102.952124\n",
      "2017-01-04     87.991674\n",
      "2017-01-05     94.610565\n",
      "2017-01-06     99.954589\n",
      "2017-01-07     81.361702\n",
      "2017-01-08    101.065247\n",
      "2017-01-09    107.243470\n",
      "2017-01-10     85.109849\n",
      "Freq: D, dtype: float64\n",
      "2017-04-06    105.454778\n",
      "2017-04-07    106.008405\n",
      "2017-04-08    101.143495\n",
      "2017-04-09    100.483061\n",
      "2017-04-10     95.986890\n",
      "Freq: D, dtype: float64\n",
      "2017-04-08    101.143495\n",
      "2017-04-09    100.483061\n",
      "2017-04-10     95.986890\n",
      "Freq: D, dtype: float64\n"
     ]
    }
   ],
   "source": [
    "#viewing Series Data\n",
    "print(s.head())#return first 5 rows\n",
    "print(s.head(10))# return first 10 rows\n",
    "print(s.tail())#return last 5 rows\n",
    "print(s.tail(3))#return last 3 rows\n"
   ]
  },
  {
   "cell_type": "code",
   "execution_count": 48,
   "metadata": {},
   "outputs": [
    {
     "name": "stdout",
     "output_type": "stream",
     "text": [
      "a    1\n",
      "b    2\n",
      "c    3\n",
      "d    4\n",
      "dtype: int64\n"
     ]
    }
   ],
   "source": [
    "print(a3)\n"
   ]
  },
  {
   "cell_type": "code",
   "execution_count": 49,
   "metadata": {},
   "outputs": [
    {
     "name": "stdout",
     "output_type": "stream",
     "text": [
      "2\n",
      "3\n",
      "b    2\n",
      "d    4\n",
      "dtype: int64\n",
      "b    2\n",
      "d    4\n",
      "dtype: int64\n",
      "b    2\n",
      "c    3\n",
      "d    4\n",
      "dtype: int64\n",
      "a    1\n",
      "b    2\n",
      "c    3\n",
      "d    4\n",
      "dtype: int64\n",
      "c    3\n",
      "d    4\n",
      "dtype: int64\n"
     ]
    }
   ],
   "source": [
    "#Selecting Data\n",
    "print(a3['b'])\n",
    "print(a3[2])\n",
    "print(a3[['b','d']])#multiple select by label\n",
    "print(a3[[1,3]])#multiple select by index integer\n",
    "#Slicing Series Data\n",
    "print(a3[1:4])#Slice items 1to 4\n",
    "print(a3[:4])\n",
    "print(a3[2:])\n"
   ]
  },
  {
   "cell_type": "code",
   "execution_count": 50,
   "metadata": {},
   "outputs": [
    {
     "name": "stdout",
     "output_type": "stream",
     "text": [
      "2017-01-01    0.474516\n",
      "2017-01-02    0.981412\n",
      "2017-01-03    1.233186\n",
      "2017-01-04    0.919952\n",
      "2017-01-05    0.390569\n",
      "2017-01-06   -2.270853\n",
      "2017-01-07    0.151969\n",
      "2017-01-08    2.998946\n",
      "2017-01-09   -0.071835\n",
      "2017-01-10   -0.510117\n",
      "2017-01-11   -0.421406\n",
      "2017-01-12   -0.056346\n",
      "2017-01-13   -0.017615\n",
      "2017-01-14   -0.360120\n",
      "2017-01-15   -0.306428\n",
      "2017-01-16   -0.793401\n",
      "2017-01-17   -0.203107\n",
      "2017-01-18   -0.920124\n",
      "2017-01-19    1.000443\n",
      "2017-01-20   -2.287077\n",
      "Freq: D, dtype: float64\n",
      "2017-01-05    0.390569\n",
      "2017-01-06   -2.270853\n",
      "2017-01-07    0.151969\n",
      "2017-01-08    2.998946\n",
      "2017-01-09   -0.071835\n",
      "2017-01-10   -0.510117\n",
      "Freq: D, dtype: float64\n"
     ]
    }
   ],
   "source": [
    "#challenge\n",
    "date=pd.date_range('20170101',periods=20)\n",
    "s=pd.Series(np.random.randn(20),index=date)\n",
    "print(s)\n",
    "print(s['2017-01-05':'2017-01-10'])\n"
   ]
  },
  {
   "cell_type": "markdown",
   "metadata": {},
   "source": [
    "# Data frame"
   ]
  },
  {
   "cell_type": "code",
   "execution_count": 51,
   "metadata": {},
   "outputs": [
    {
     "name": "stdout",
     "output_type": "stream",
     "text": [
      "   e  f\n",
      "1  1  2\n",
      "2  3  4\n"
     ]
    }
   ],
   "source": [
    "# Create Data Frame from the list\n",
    "d=[[1,2],[3,4]]\n",
    "df=pd.DataFrame(d,index=[1,2],columns=['e','f'])\n",
    "print(df)"
   ]
  },
  {
   "cell_type": "code",
   "execution_count": 52,
   "metadata": {},
   "outputs": [
    {
     "name": "stdout",
     "output_type": "stream",
     "text": [
      "    A   B   C   D\n",
      "1   0   1   2   3\n",
      "2   4   5   6   7\n",
      "3   8   9  10  11\n",
      "4  12  13  14  15\n",
      "5  16  17  18  19\n",
      "6  20  21  22  23\n"
     ]
    }
   ],
   "source": [
    "#Create DF from Numpy Array\n",
    "d=np.arange(24).reshape(6,4)\n",
    "df=pd.DataFrame(d,index=np.arange(1,7),columns=list('ABCD'))\n",
    "print(df)"
   ]
  },
  {
   "cell_type": "code",
   "execution_count": 53,
   "metadata": {},
   "outputs": [
    {
     "name": "stdout",
     "output_type": "stream",
     "text": [
      "       name  height\n",
      "A1     Ally     160\n",
      "A2     Jane     155\n",
      "A3  Belinda     163\n"
     ]
    }
   ],
   "source": [
    "#Create DF from Dictionary\n",
    "print(pd.DataFrame({'name':['Ally','Jane','Belinda'],'height':[160,155,163]},columns=['name','height'],index=['A1','A2','A3']))"
   ]
  },
  {
   "cell_type": "code",
   "execution_count": 54,
   "metadata": {},
   "outputs": [
    {
     "name": "stdout",
     "output_type": "stream",
     "text": [
      "                Asia    Europe\n",
      "2017-01-01  0.163976 -0.611836\n",
      "2017-01-02 -1.501875  0.776459\n",
      "2017-01-03 -0.397171 -0.385922\n",
      "2017-01-04  0.970839 -0.938333\n",
      "2017-01-05 -0.104785  0.825122\n",
      "2017-01-06  0.617922  0.029047\n"
     ]
    }
   ],
   "source": [
    "#Create DataFrame from np as array\n",
    "date=pd.date_range('20170101',periods=6)\n",
    "s=pd.Series(np.random.randn(6),index=date)\n",
    "s1=pd.Series(np.random.randn(6),index=date)\n",
    "df=pd.DataFrame({'Asia':s,'Europe':s1})\n",
    "print(df)\n",
    "\n"
   ]
  },
  {
   "cell_type": "code",
   "execution_count": null,
   "metadata": {},
   "outputs": [],
   "source": [
    "#Challenge\n",
    "v=pd.DataFrame({'name':['Ally','Jane','Belinda'],'height':[160,155,163],'age':[40,35,42]},columns=['name','height','age'],index=['A1','A2','A3'])\n",
    "print(v)\n",
    "print(v.shape)\n",
    "print(v.columns)\n",
    "print(v.index)\n",
    "print(v.values)"
   ]
  },
  {
   "cell_type": "code",
   "execution_count": 55,
   "metadata": {},
   "outputs": [
    {
     "name": "stdout",
     "output_type": "stream",
     "text": [
      "   d  b\n",
      "1  3  4\n",
      "2  5  6\n",
      "   c  b\n",
      "3  6  5\n",
      "2  4  3\n",
      "     b   c   d\n",
      "1  NaN NaN NaN\n",
      "2  9.0 NaN NaN\n",
      "3  NaN NaN NaN\n"
     ]
    }
   ],
   "source": [
    "#Dataframe Arithmetic\n",
    "a3=[[3,4],[5,6]]\n",
    "a4=[[6,5],[4,3]]\n",
    "b3=pd.DataFrame(a3,index=[1,2],columns=['d','b'])\n",
    "b4=pd.DataFrame(a4,index=[3,2],columns=['c','b'])\n",
    "print(b3)\n",
    "print(b4)\n",
    "print(b3+b4)"
   ]
  },
  {
   "cell_type": "code",
   "execution_count": 57,
   "metadata": {},
   "outputs": [
    {
     "name": "stdout",
     "output_type": "stream",
     "text": [
      "           0         1         2         3         4\n",
      "0   0.202895 -0.657013  0.123635 -0.540697 -0.609640\n",
      "1   0.207452 -0.983512  0.082362 -0.198285 -0.469233\n",
      "2  -0.040296  0.467766 -1.584251 -0.689099 -0.288155\n",
      "3  -0.159237  0.728244  0.943523 -0.576584  0.190560\n",
      "4  -0.353513  0.742629 -2.311569 -0.294849 -0.022868\n",
      "5  -0.739985 -0.019666 -0.283435 -0.904016  0.025356\n",
      "6  -0.911927 -0.726100  0.932685 -0.267020  0.060964\n",
      "7  -1.415550  1.263929 -0.541664 -1.224140  0.428808\n",
      "8   0.986576  0.954327  0.298169  1.087806  1.124565\n",
      "9  -0.166004  0.387758  0.750670  0.938107 -1.262025\n",
      "10  1.933929  1.291799 -0.469068  0.252546 -1.028553\n",
      "11  0.415726 -0.782310 -0.451949  1.194424  0.321602\n",
      "12 -1.372228 -0.038572 -0.672304  1.400467 -0.947649\n",
      "13  1.314737 -0.145066 -0.635484 -0.948265  0.549197\n",
      "14 -0.838047  1.421053 -1.926554  0.687195  0.095122\n",
      "15 -1.152586  0.539760  0.271324  0.913469 -2.483977\n",
      "16 -0.373269  1.212962  0.568994 -0.263402  0.583047\n",
      "17  0.317238 -0.898381  0.726321 -0.071776 -0.171408\n",
      "18  0.157342  0.112758 -0.524606  0.289758  0.197696\n",
      "19  0.153635  0.574648  2.453392 -2.214539  0.371441\n",
      "          0         1         2         3         4\n",
      "0  0.202895 -0.657013  0.123635 -0.540697 -0.609640\n",
      "1  0.207452 -0.983512  0.082362 -0.198285 -0.469233\n",
      "2 -0.040296  0.467766 -1.584251 -0.689099 -0.288155\n",
      "3 -0.159237  0.728244  0.943523 -0.576584  0.190560\n",
      "4 -0.353513  0.742629 -2.311569 -0.294849 -0.022868\n",
      "          0         1         2         3         4\n",
      "0  0.202895 -0.657013  0.123635 -0.540697 -0.609640\n",
      "1  0.207452 -0.983512  0.082362 -0.198285 -0.469233\n",
      "2 -0.040296  0.467766 -1.584251 -0.689099 -0.288155\n",
      "3 -0.159237  0.728244  0.943523 -0.576584  0.190560\n",
      "4 -0.353513  0.742629 -2.311569 -0.294849 -0.022868\n",
      "5 -0.739985 -0.019666 -0.283435 -0.904016  0.025356\n",
      "6 -0.911927 -0.726100  0.932685 -0.267020  0.060964\n",
      "7 -1.415550  1.263929 -0.541664 -1.224140  0.428808\n",
      "           0         1         2         3         4\n",
      "15 -1.152586  0.539760  0.271324  0.913469 -2.483977\n",
      "16 -0.373269  1.212962  0.568994 -0.263402  0.583047\n",
      "17  0.317238 -0.898381  0.726321 -0.071776 -0.171408\n",
      "18  0.157342  0.112758 -0.524606  0.289758  0.197696\n",
      "19  0.153635  0.574648  2.453392 -2.214539  0.371441\n",
      "           0         1         2         3         4\n",
      "12 -1.372228 -0.038572 -0.672304  1.400467 -0.947649\n",
      "13  1.314737 -0.145066 -0.635484 -0.948265  0.549197\n",
      "14 -0.838047  1.421053 -1.926554  0.687195  0.095122\n",
      "15 -1.152586  0.539760  0.271324  0.913469 -2.483977\n",
      "16 -0.373269  1.212962  0.568994 -0.263402  0.583047\n",
      "17  0.317238 -0.898381  0.726321 -0.071776 -0.171408\n",
      "18  0.157342  0.112758 -0.524606  0.289758  0.197696\n",
      "19  0.153635  0.574648  2.453392 -2.214539  0.371441\n"
     ]
    }
   ],
   "source": [
    "#Viewing Data\n",
    "d=pd.DataFrame(np.random.randn(20,5))\n",
    "print(d)\n",
    "print(d.head())\n",
    "print(d.head(8))\n",
    "print(d.tail())\n",
    "print(d.tail(8))"
   ]
  },
  {
   "cell_type": "code",
   "execution_count": 3,
   "metadata": {},
   "outputs": [
    {
     "data": {
      "text/html": [
       "<div>\n",
       "<style scoped>\n",
       "    .dataframe tbody tr th:only-of-type {\n",
       "        vertical-align: middle;\n",
       "    }\n",
       "\n",
       "    .dataframe tbody tr th {\n",
       "        vertical-align: top;\n",
       "    }\n",
       "\n",
       "    .dataframe thead th {\n",
       "        text-align: right;\n",
       "    }\n",
       "</style>\n",
       "<table border=\"1\" class=\"dataframe\">\n",
       "  <thead>\n",
       "    <tr style=\"text-align: right;\">\n",
       "      <th></th>\n",
       "      <th>name</th>\n",
       "      <th>height</th>\n",
       "      <th>age</th>\n",
       "    </tr>\n",
       "  </thead>\n",
       "  <tbody>\n",
       "    <tr>\n",
       "      <td>A1</td>\n",
       "      <td>Ally</td>\n",
       "      <td>160</td>\n",
       "      <td>40</td>\n",
       "    </tr>\n",
       "    <tr>\n",
       "      <td>A2</td>\n",
       "      <td>Jane</td>\n",
       "      <td>155</td>\n",
       "      <td>35</td>\n",
       "    </tr>\n",
       "    <tr>\n",
       "      <td>A3</td>\n",
       "      <td>Belinda</td>\n",
       "      <td>163</td>\n",
       "      <td>42</td>\n",
       "    </tr>\n",
       "  </tbody>\n",
       "</table>\n",
       "</div>"
      ],
      "text/plain": [
       "       name  height  age\n",
       "A1     Ally     160   40\n",
       "A2     Jane     155   35\n",
       "A3  Belinda     163   42"
      ]
     },
     "execution_count": 3,
     "metadata": {},
     "output_type": "execute_result"
    }
   ],
   "source": [
    "#XCreating dataframe\n",
    "import pandas as pd\n",
    "v=pd.DataFrame({'name':['Ally','Jane','Belinda'],'height':[160,155,163],'age':[40,35,42]},columns=['name','height','age'],index=['A1','A2','A3'])\n",
    "v"
   ]
  },
  {
   "cell_type": "code",
   "execution_count": 61,
   "metadata": {},
   "outputs": [
    {
     "name": "stdout",
     "output_type": "stream",
     "text": [
      "A1       Ally\n",
      "A2       Jane\n",
      "A3    Belinda\n",
      "Name: name, dtype: object\n",
      "       name  height\n",
      "A1     Ally     160\n",
      "A2     Jane     155\n",
      "A3  Belinda     163\n"
     ]
    }
   ],
   "source": [
    "#Selecting by column names\n",
    "print(v.name)\n",
    "print(v[['name','height']])"
   ]
  },
  {
   "cell_type": "code",
   "execution_count": 62,
   "metadata": {},
   "outputs": [
    {
     "name": "stdout",
     "output_type": "stream",
     "text": [
      "name      Belinda\n",
      "height        163\n",
      "age            42\n",
      "Name: A3, dtype: object\n",
      "name      Ally\n",
      "height     160\n",
      "age         40\n",
      "Name: A1, dtype: object\n"
     ]
    }
   ],
   "source": [
    "#Selecting by row\n",
    "print(v.iloc[2])#determine by position\n",
    "print(v.loc['A1'])#determine by key label"
   ]
  },
  {
   "cell_type": "code",
   "execution_count": 4,
   "metadata": {},
   "outputs": [
    {
     "name": "stdout",
     "output_type": "stream",
     "text": [
      "    name  height  age\n",
      "A1  Ally     160   40\n",
      "    name  height  age\n",
      "A1  Ally     160   40\n",
      "A2  Jane     155   35\n",
      "       name  height  age\n",
      "A3  Belinda     163   42\n",
      "160\n",
      "163\n"
     ]
    }
   ],
   "source": [
    "#Slicing Seriees Data\n",
    "print(v[0:1])#Slicing here only 0th item will be shown\n",
    "print(v[:2])#here values until previous position to 2 will be displayed\n",
    "print(v[2:])#values including 2 until last position-1 will be displayed\n",
    "print(v.loc['A1']['height'])#Extract only with label A1 and column value height\n",
    "print(v.iloc[2]['height'])#Extract value in position 2 at the column height\n"
   ]
  },
  {
   "cell_type": "markdown",
   "metadata": {},
   "source": [
    "# CSV "
   ]
  },
  {
   "cell_type": "code",
   "execution_count": 6,
   "metadata": {},
   "outputs": [
    {
     "name": "stdout",
     "output_type": "stream",
     "text": [
      "     sepal_length  sepal_width  petal_length  petal_width         species\n",
      "0             5.1          3.5           1.4          0.2     Iris-setosa\n",
      "1             4.9          3.0           1.4          0.2     Iris-setosa\n",
      "2             4.7          3.2           1.3          0.2     Iris-setosa\n",
      "3             4.6          3.1           1.5          0.2     Iris-setosa\n",
      "4             5.0          3.6           1.4          0.2     Iris-setosa\n",
      "..            ...          ...           ...          ...             ...\n",
      "145           6.7          3.0           5.2          2.3  Iris-virginica\n",
      "146           6.3          2.5           5.0          1.9  Iris-virginica\n",
      "147           6.5          3.0           5.2          2.0  Iris-virginica\n",
      "148           6.2          3.4           5.4          2.3  Iris-virginica\n",
      "149           5.9          3.0           5.1          1.8  Iris-virginica\n",
      "\n",
      "[150 rows x 5 columns]\n",
      "   sepal_length  sepal_width  petal_length  petal_width      species\n",
      "0           5.1          3.5           1.4          0.2  Iris-setosa\n",
      "1           4.9          3.0           1.4          0.2  Iris-setosa\n",
      "2           4.7          3.2           1.3          0.2  Iris-setosa\n",
      "3           4.6          3.1           1.5          0.2  Iris-setosa\n",
      "4           5.0          3.6           1.4          0.2  Iris-setosa\n",
      "Index(['sepal_length', 'sepal_width', 'petal_length', 'petal_width',\n",
      "       'species'],\n",
      "      dtype='object')\n",
      "1     4.9\n",
      "2     4.7\n",
      "3     4.6\n",
      "4     5.0\n",
      "5     5.4\n",
      "6     4.6\n",
      "7     5.0\n",
      "8     4.4\n",
      "9     4.9\n",
      "10    5.4\n",
      "11    4.8\n",
      "12    4.8\n",
      "13    4.3\n",
      "14    5.8\n",
      "15    5.7\n",
      "16    5.4\n",
      "17    5.1\n",
      "18    5.7\n",
      "19    5.1\n",
      "20    5.4\n",
      "Name: sepal_length, dtype: float64\n"
     ]
    }
   ],
   "source": [
    "r=pd.read_csv(\"C:/Users/arun/Desktop/ITRAIN/itrain python/Basic/iris.csv\")\n",
    "print(r)\n",
    "print(r.head())\n",
    "print(r.columns)\n",
    "print(r.sepal_length[1:21])#Print only sepal length for first 20 values\n"
   ]
  },
  {
   "cell_type": "markdown",
   "metadata": {},
   "source": [
    "# Excel"
   ]
  },
  {
   "cell_type": "code",
   "execution_count": 7,
   "metadata": {},
   "outputs": [
    {
     "name": "stdout",
     "output_type": "stream",
     "text": [
      "   Id  sepal_length  sepal_width  petal_length  petal_width      species\n",
      "0   1           5.1          3.5           1.4          0.2  Iris-setosa\n",
      "1   2           4.9          3.0           1.4          0.2  Iris-setosa\n",
      "2   3           4.7          3.2           1.3          0.2  Iris-setosa\n",
      "3   4           4.6          3.1           1.5          0.2  Iris-setosa\n",
      "4   5           5.0          3.6           1.4          0.2  Iris-setosa\n",
      "5   6           5.4          3.9           1.7          0.4  Iris-setosa\n",
      "6   7           4.6          3.4           1.4          0.3  Iris-setosa\n",
      "7   8           5.0          3.4           1.5          0.2  Iris-setosa\n",
      "8   9           4.4          2.9           1.4          0.2  Iris-setosa\n",
      "9  10           4.9          3.1           1.5          0.1  Iris-setosa\n"
     ]
    }
   ],
   "source": [
    "import pandas as pd\n",
    "df = pd.read_excel(\"C:/Users/arun/Desktop/ITRAIN/itrain python/iris.xls\")\n",
    "print(df.head(10))\n"
   ]
  },
  {
   "cell_type": "code",
   "execution_count": 8,
   "metadata": {},
   "outputs": [
    {
     "name": "stdout",
     "output_type": "stream",
     "text": [
      "   A  B  C  D\n",
      "0  2  2  2  0\n",
      "1  3  3  4  4\n",
      "2  3  8  5  5\n",
      "3  3  3  4  4\n"
     ]
    }
   ],
   "source": [
    "#Handling Duplicates\n",
    "df = pd.DataFrame([[2, 2, 2, 0],\n",
    "[3, 3, 4, 4],\n",
    "[3, 8, 5, 5],\n",
    "[3, 3, 4, 4]],\n",
    "columns = ['A', 'B', 'C', 'D'])\n",
    "print(df)\n"
   ]
  },
  {
   "cell_type": "code",
   "execution_count": 10,
   "metadata": {},
   "outputs": [
    {
     "name": "stdout",
     "output_type": "stream",
     "text": [
      "0    False\n",
      "1    False\n",
      "2    False\n",
      "3     True\n",
      "dtype: bool\n",
      "   A  B  C  D\n",
      "0  2  2  2  0\n",
      "1  3  3  4  4\n",
      "2  3  8  5  5\n",
      "   A  B  C  D\n",
      "0  2  2  2  0\n",
      "1  3  3  4  4\n"
     ]
    }
   ],
   "source": [
    "print(df.duplicated())\n",
    "print(df.drop_duplicates())\n",
    "print(df.drop_duplicates('A'))"
   ]
  },
  {
   "cell_type": "code",
   "execution_count": 12,
   "metadata": {},
   "outputs": [
    {
     "name": "stdout",
     "output_type": "stream",
     "text": [
      "0    3.0\n",
      "1    4.0\n",
      "2    NaN\n",
      "3    6.0\n",
      "4    NaN\n",
      "5    8.0\n",
      "dtype: float64\n",
      "0    False\n",
      "1    False\n",
      "2     True\n",
      "3    False\n",
      "4     True\n",
      "5    False\n",
      "dtype: bool\n"
     ]
    }
   ],
   "source": [
    "#HANDLING MISSING VALUES\n",
    "#Discover missing values\n",
    "import numpy as np\n",
    "missing=np.nan\n",
    "s=pd.Series([3,4,missing,6,missing,8])\n",
    "print(s)\n",
    "print(s.isnull())\n",
    " \n",
    "\n"
   ]
  },
  {
   "cell_type": "code",
   "execution_count": 15,
   "metadata": {},
   "outputs": [
    {
     "name": "stdout",
     "output_type": "stream",
     "text": [
      "   PassengerId  Survived  Pclass  \\\n",
      "0            1         0       3   \n",
      "1            2         1       1   \n",
      "2            3         1       3   \n",
      "3            4         1       1   \n",
      "4            5         0       3   \n",
      "\n",
      "                                                Name     Sex   Age  SibSp  \\\n",
      "0                            Braund, Mr. Owen Harris    male  22.0      1   \n",
      "1  Cumings, Mrs. John Bradley (Florence Briggs Th...  female  38.0      1   \n",
      "2                             Heikkinen, Miss. Laina  female  26.0      0   \n",
      "3       Futrelle, Mrs. Jacques Heath (Lily May Peel)  female  35.0      1   \n",
      "4                           Allen, Mr. William Henry    male  35.0      0   \n",
      "\n",
      "   Parch            Ticket     Fare Cabin Embarked  \n",
      "0      0         A/5 21171   7.2500   NaN        S  \n",
      "1      0          PC 17599  71.2833   C85        C  \n",
      "2      0  STON/O2. 3101282   7.9250   NaN        S  \n",
      "3      0            113803  53.1000  C123        S  \n",
      "4      0            373450   8.0500   NaN        S  \n",
      "<class 'pandas.core.frame.DataFrame'>\n",
      "RangeIndex: 891 entries, 0 to 890\n",
      "Data columns (total 12 columns):\n",
      "PassengerId    891 non-null int64\n",
      "Survived       891 non-null int64\n",
      "Pclass         891 non-null int64\n",
      "Name           891 non-null object\n",
      "Sex            891 non-null object\n",
      "Age            714 non-null float64\n",
      "SibSp          891 non-null int64\n",
      "Parch          891 non-null int64\n",
      "Ticket         891 non-null object\n",
      "Fare           891 non-null float64\n",
      "Cabin          204 non-null object\n",
      "Embarked       889 non-null object\n",
      "dtypes: float64(2), int64(5), object(5)\n",
      "memory usage: 83.7+ KB\n",
      "None\n",
      "True\n",
      "PassengerId      0\n",
      "Survived         0\n",
      "Pclass           0\n",
      "Name             0\n",
      "Sex              0\n",
      "Age            177\n",
      "SibSp            0\n",
      "Parch            0\n",
      "Ticket           0\n",
      "Fare             0\n",
      "Cabin          687\n",
      "Embarked         2\n",
      "dtype: int64\n",
      "PassengerId    0\n",
      "Survived       0\n",
      "Pclass         0\n",
      "Name           0\n",
      "Sex            0\n",
      "Age            0\n",
      "SibSp          0\n",
      "Parch          0\n",
      "Ticket         0\n",
      "Fare           0\n",
      "Cabin          0\n",
      "Embarked       0\n",
      "dtype: int64\n",
      "   PassengerId  Survived  Pclass  \\\n",
      "0            1         0       3   \n",
      "1            2         1       1   \n",
      "2            3         1       3   \n",
      "3            4         1       1   \n",
      "4            5         0       3   \n",
      "\n",
      "                                                Name     Sex   Age  SibSp  \\\n",
      "0                            Braund, Mr. Owen Harris    male  22.0      1   \n",
      "1  Cumings, Mrs. John Bradley (Florence Briggs Th...  female  38.0      1   \n",
      "2                             Heikkinen, Miss. Laina  female  26.0      0   \n",
      "3       Futrelle, Mrs. Jacques Heath (Lily May Peel)  female  35.0      1   \n",
      "4                           Allen, Mr. William Henry    male  35.0      0   \n",
      "\n",
      "   Parch            Ticket     Fare Cabin Embarked  \n",
      "0      0         A/5 21171   7.2500   NaN        S  \n",
      "1      0          PC 17599  71.2833   C85        C  \n",
      "2      0  STON/O2. 3101282   7.9250   NaN        S  \n",
      "3      0            113803  53.1000  C123        S  \n",
      "4      0            373450   8.0500   NaN        S  \n",
      "   PassengerId  Survived  Pclass  \\\n",
      "0            1         0       3   \n",
      "1            2         1       1   \n",
      "2            3         1       3   \n",
      "3            4         1       1   \n",
      "4            5         0       3   \n",
      "\n",
      "                                                Name     Sex   Age  SibSp  \\\n",
      "0                            Braund, Mr. Owen Harris    male  22.0      1   \n",
      "1  Cumings, Mrs. John Bradley (Florence Briggs Th...  female  38.0      1   \n",
      "2                             Heikkinen, Miss. Laina  female  26.0      0   \n",
      "3       Futrelle, Mrs. Jacques Heath (Lily May Peel)  female  35.0      1   \n",
      "4                           Allen, Mr. William Henry    male  35.0      0   \n",
      "\n",
      "   Parch            Ticket     Fare Cabin Embarked  \n",
      "0      0         A/5 21171   7.2500   NaN        S  \n",
      "1      0          PC 17599  71.2833   C85        C  \n",
      "2      0  STON/O2. 3101282   7.9250   C85        S  \n",
      "3      0            113803  53.1000  C123        S  \n",
      "4      0            373450   8.0500  C123        S  \n",
      "   PassengerId  Survived  Pclass  \\\n",
      "0            1         0       3   \n",
      "1            2         1       1   \n",
      "2            3         1       3   \n",
      "3            4         1       1   \n",
      "4            5         0       3   \n",
      "\n",
      "                                                Name     Sex   Age  SibSp  \\\n",
      "0                            Braund, Mr. Owen Harris    male  22.0      1   \n",
      "1  Cumings, Mrs. John Bradley (Florence Briggs Th...  female  38.0      1   \n",
      "2                             Heikkinen, Miss. Laina  female  26.0      0   \n",
      "3       Futrelle, Mrs. Jacques Heath (Lily May Peel)  female  35.0      1   \n",
      "4                           Allen, Mr. William Henry    male  35.0      0   \n",
      "\n",
      "   Parch            Ticket     Fare Cabin Embarked  \n",
      "0      0         A/5 21171   7.2500   C85        S  \n",
      "1      0          PC 17599  71.2833   C85        C  \n",
      "2      0  STON/O2. 3101282   7.9250  C123        S  \n",
      "3      0            113803  53.1000  C123        S  \n",
      "4      0            373450   8.0500   E46        S  \n",
      "    PassengerId  Survived  Pclass  \\\n",
      "1             2         1       1   \n",
      "3             4         1       1   \n",
      "6             7         0       1   \n",
      "10           11         1       3   \n",
      "11           12         1       1   \n",
      "\n",
      "                                                 Name     Sex   Age  SibSp  \\\n",
      "1   Cumings, Mrs. John Bradley (Florence Briggs Th...  female  38.0      1   \n",
      "3        Futrelle, Mrs. Jacques Heath (Lily May Peel)  female  35.0      1   \n",
      "6                             McCarthy, Mr. Timothy J    male  54.0      0   \n",
      "10                    Sandstrom, Miss. Marguerite Rut  female   4.0      1   \n",
      "11                           Bonnell, Miss. Elizabeth  female  58.0      0   \n",
      "\n",
      "    Parch    Ticket     Fare Cabin Embarked  \n",
      "1       0  PC 17599  71.2833   C85        C  \n",
      "3       0    113803  53.1000  C123        S  \n",
      "6       0     17463  51.8625   E46        S  \n",
      "10      1   PP 9549  16.7000    G6        S  \n",
      "11      0    113783  26.5500  C103        S  \n",
      "   PassengerId  Survived  Pclass  \\\n",
      "0            1         0       3   \n",
      "1            2         1       1   \n",
      "2            3         1       3   \n",
      "3            4         1       1   \n",
      "4            5         0       3   \n",
      "\n",
      "                                                Name     Sex  SibSp  Parch  \\\n",
      "0                            Braund, Mr. Owen Harris    male      1      0   \n",
      "1  Cumings, Mrs. John Bradley (Florence Briggs Th...  female      1      0   \n",
      "2                             Heikkinen, Miss. Laina  female      0      0   \n",
      "3       Futrelle, Mrs. Jacques Heath (Lily May Peel)  female      1      0   \n",
      "4                           Allen, Mr. William Henry    male      0      0   \n",
      "\n",
      "             Ticket     Fare  \n",
      "0         A/5 21171   7.2500  \n",
      "1          PC 17599  71.2833  \n",
      "2  STON/O2. 3101282   7.9250  \n",
      "3            113803  53.1000  \n",
      "4            373450   8.0500  \n",
      "     PassengerId  Survived  Pclass  \\\n",
      "0              1         0       3   \n",
      "1              2         1       1   \n",
      "2              3         1       3   \n",
      "3              4         1       1   \n",
      "4              5         0       3   \n",
      "..           ...       ...     ...   \n",
      "886          887         0       2   \n",
      "887          888         1       1   \n",
      "888          889         0       3   \n",
      "889          890         1       1   \n",
      "890          891         0       3   \n",
      "\n",
      "                                                  Name     Sex   Age  SibSp  \\\n",
      "0                              Braund, Mr. Owen Harris    male  22.0      1   \n",
      "1    Cumings, Mrs. John Bradley (Florence Briggs Th...  female  38.0      1   \n",
      "2                               Heikkinen, Miss. Laina  female  26.0      0   \n",
      "3         Futrelle, Mrs. Jacques Heath (Lily May Peel)  female  35.0      1   \n",
      "4                             Allen, Mr. William Henry    male  35.0      0   \n",
      "..                                                 ...     ...   ...    ...   \n",
      "886                              Montvila, Rev. Juozas    male  27.0      0   \n",
      "887                       Graham, Miss. Margaret Edith  female  19.0      0   \n",
      "888           Johnston, Miss. Catherine Helen \"Carrie\"  female   NaN      1   \n",
      "889                              Behr, Mr. Karl Howell    male  26.0      0   \n",
      "890                                Dooley, Mr. Patrick    male  32.0      0   \n",
      "\n",
      "     Parch            Ticket     Fare Cabin Embarked  \n",
      "0        0         A/5 21171   7.2500   NaN        S  \n",
      "1        0          PC 17599  71.2833   C85        C  \n",
      "2        0  STON/O2. 3101282   7.9250   NaN        S  \n",
      "3        0            113803  53.1000  C123        S  \n",
      "4        0            373450   8.0500   NaN        S  \n",
      "..     ...               ...      ...   ...      ...  \n",
      "886      0            211536  13.0000   NaN        S  \n",
      "887      0            112053  30.0000   B42        S  \n",
      "888      2        W./C. 6607  23.4500   NaN        S  \n",
      "889      0            111369  30.0000  C148        C  \n",
      "890      0            370376   7.7500   NaN        Q  \n",
      "\n",
      "[891 rows x 12 columns]\n"
     ]
    }
   ],
   "source": [
    "mydata=pd.read_csv(\"C:/Users/arun/Desktop/ITRAIN/R for Data science2020/Advance R for Data Science/datasets-master/titanic.csv\")\n",
    "print(mydata.head(5))\n",
    "print(mydata.info())\n",
    "# To check  Any missing values?\n",
    "print(mydata.isnull().values.any())\n",
    "#Counting missing data\n",
    "print(mydata.isnull().sum())\n",
    "#Filling the missing values with 0\n",
    "z=mydata.fillna(0)\n",
    "print(z.isnull().sum())#Counting missing data\n",
    "#Fill the missing values with the previous value\n",
    "print(mydata.head(5))\n",
    "y=mydata.fillna(method='ffill')\n",
    "print(y.head(5))\n",
    "m=mydata.fillna(method='bfill')#Fill the missing values with the next value\n",
    "print(m.head(5))\n",
    "#Remove na rows \n",
    "s=mydata.dropna()#Remove only the rows\n",
    "print(s.head(5))\n",
    "#Remove  columns having NA values \n",
    "f=mydata.dropna(axis=1)\n",
    "print(f.head(5))\n",
    "mydata.dropna(how='all')#Identify the rows that conatin all missing values \n",
    "print(mydata)"
   ]
  },
  {
   "cell_type": "code",
   "execution_count": 30,
   "metadata": {},
   "outputs": [
    {
     "name": "stdout",
     "output_type": "stream",
     "text": [
      "1              C85\n",
      "3             C123\n",
      "6              E46\n",
      "10              G6\n",
      "11            C103\n",
      "          ...     \n",
      "871            D35\n",
      "872    B51 B53 B55\n",
      "879            C50\n",
      "887            B42\n",
      "889           C148\n",
      "Name: Cabin, Length: 204, dtype: object\n",
      "1      False\n",
      "3      False\n",
      "6      False\n",
      "10     False\n",
      "11     False\n",
      "       ...  \n",
      "871    False\n",
      "872    False\n",
      "879    False\n",
      "887    False\n",
      "889    False\n",
      "Name: Cabin, Length: 204, dtype: bool\n"
     ]
    }
   ],
   "source": [
    "s=mydata.dropna(how='all')#Identify the rows that conatin all missing values \n",
    "#print(s)\n",
    "#print(mydata.isnull().sum())\n",
    "s1=mydata.Cabin.dropna()\n",
    "print(s1)\n",
    "print(s1.isnull())"
   ]
  },
  {
   "cell_type": "code",
   "execution_count": 31,
   "metadata": {},
   "outputs": [
    {
     "name": "stdout",
     "output_type": "stream",
     "text": [
      "   sepal_length  sepal_width  petal_length  petal_width      species\n",
      "0           4.9          3.0           1.4          0.2  Iris-setosa\n",
      "1           4.7          3.2           1.3          0.2  Iris-setosa\n",
      "2           4.6          3.1           1.5          0.2  Iris-setosa\n",
      "3           5.0          3.6           1.4          0.2  Iris-setosa\n",
      "4           5.4          3.9           1.7          0.4  Iris-setosa\n",
      "Index(['sepal_length', 'sepal_width', 'petal_length', 'petal_width',\n",
      "       'species'],\n",
      "      dtype='object')\n",
      "99     6.3\n",
      "100    5.8\n",
      "101    7.1\n",
      "102    6.3\n",
      "103    6.5\n",
      "104    7.6\n",
      "106    7.3\n",
      "107    6.7\n",
      "108    7.2\n",
      "109    6.5\n",
      "110    6.4\n",
      "111    6.8\n",
      "112    5.7\n",
      "113    5.8\n",
      "114    6.4\n",
      "115    6.5\n",
      "116    7.7\n",
      "117    7.7\n",
      "118    6.0\n",
      "119    6.9\n",
      "120    5.6\n",
      "121    7.7\n",
      "122    6.3\n",
      "123    6.7\n",
      "124    7.2\n",
      "125    6.2\n",
      "126    6.1\n",
      "127    6.4\n",
      "128    7.2\n",
      "129    7.4\n",
      "130    7.9\n",
      "131    6.4\n",
      "132    6.3\n",
      "133    6.1\n",
      "134    7.7\n",
      "135    6.3\n",
      "136    6.4\n",
      "137    6.0\n",
      "138    6.9\n",
      "139    6.7\n",
      "140    6.9\n",
      "141    5.8\n",
      "142    6.8\n",
      "143    6.7\n",
      "144    6.7\n",
      "145    6.3\n",
      "146    6.5\n",
      "147    6.2\n",
      "148    5.9\n",
      "Name: sepal_length, dtype: float64\n"
     ]
    }
   ],
   "source": [
    "# Filtering Dataframe\n",
    "r=pd.read_csv('http://archive.ics.uci.edu/ml/machine-learning-databases/iris/iris.data')\n",
    "attributes = [\"sepal_length\", \"sepal_width\", \"petal_length\", \"petal_width\", \"species\"]\n",
    "r.columns = attributes\n",
    "print(r.head())\n",
    "print(r.columns)\n",
    "print(r.sepal_length[(r.species=='Iris-virginica')& (r.sepal_length >5.0)])#Prints the sepal length values for the species Iris Virginica and of sepal length >5.0"
   ]
  },
  {
   "cell_type": "code",
   "execution_count": 42,
   "metadata": {},
   "outputs": [
    {
     "name": "stdout",
     "output_type": "stream",
     "text": [
      "2017-01-01     3.487887\n",
      "2017-01-02     3.549410\n",
      "2017-01-03    10.217315\n",
      "2017-01-04     5.876608\n",
      "2017-01-05     7.104251\n",
      "2017-01-06    -1.079838\n",
      "2017-01-07     6.066602\n",
      "2017-01-08     4.603707\n",
      "2017-01-09     6.811851\n",
      "2017-01-10     8.582291\n",
      "Freq: D, dtype: float64\n",
      "2017-01-01    False\n",
      "2017-01-02    False\n",
      "2017-01-03     True\n",
      "2017-01-04     True\n",
      "2017-01-05     True\n",
      "2017-01-06    False\n",
      "2017-01-07     True\n",
      "2017-01-08    False\n",
      "2017-01-09     True\n",
      "2017-01-10     True\n",
      "Freq: D, dtype: bool\n",
      "2017-01-03    10.217315\n",
      "2017-01-04     5.876608\n",
      "2017-01-05     7.104251\n",
      "2017-01-07     6.066602\n",
      "2017-01-09     6.811851\n",
      "2017-01-10     8.582291\n",
      "dtype: float64\n"
     ]
    }
   ],
   "source": [
    "#Filtering series from np as array\n",
    "a=np.random.randn(10)*4+5\n",
    "date=pd.date_range('20170101',periods=10)\n",
    "s=pd.Series(a,index=date)\n",
    "print(s)\n",
    "print(s>5)#Print the boolean results\n",
    "print(s[s>5])#print the value results"
   ]
  },
  {
   "cell_type": "code",
   "execution_count": 43,
   "metadata": {},
   "outputs": [
    {
     "name": "stdout",
     "output_type": "stream",
     "text": [
      "s1  0    a\n",
      "    1    b\n",
      "s2  0    c\n",
      "    1    d\n",
      "dtype: object\n"
     ]
    }
   ],
   "source": [
    "#CONCAT Series\n",
    "s1=pd.Series(['a','b'])\n",
    "s2=pd.Series(['c','d'])\n",
    "s3=pd.concat([s1,s2])\n",
    "s3=pd.concat([s1,s2],keys=['s1','s2'])\n",
    "print(s3)"
   ]
  },
  {
   "cell_type": "code",
   "execution_count": 44,
   "metadata": {},
   "outputs": [
    {
     "name": "stdout",
     "output_type": "stream",
     "text": [
      "  id Feature1 Feature2\n",
      "0  1        A        B\n",
      "1  2        C        D\n",
      "2  3        E        F\n",
      "3  4        G        H\n",
      "4  5        I        J\n",
      "  id Feature1 Feature2\n",
      "0  1        K        L\n",
      "1  2        M        N\n",
      "2  6        O        P\n",
      "3  7        Q        R\n",
      "4  8        S        T\n"
     ]
    }
   ],
   "source": [
    "#CONCAT DATAFRAME\n",
    "data1 = {\n",
    "        'id': ['1', '2', '3', '4', '5'],\n",
    "        'Feature1': ['A', 'C', 'E', 'G', 'I'],\n",
    "        'Feature2': ['B', 'D', 'F', 'H', 'J']}\n",
    "dataf1 = pd.DataFrame(data1, columns = ['id', 'Feature1', 'Feature2'])\n",
    "print(dataf1)\n",
    "data2 = {\n",
    "        'id': ['1', '2', '6', '7', '8'],\n",
    "        'Feature1': ['K', 'M', 'O', 'Q', 'S'],\n",
    "        'Feature2': ['L', 'N', 'P', 'R', 'T']}\n",
    "dataf2 = pd.DataFrame(data2, columns = ['id', 'Feature1', 'Feature2'])\n",
    "print(dataf2)"
   ]
  },
  {
   "cell_type": "code",
   "execution_count": 45,
   "metadata": {},
   "outputs": [
    {
     "name": "stdout",
     "output_type": "stream",
     "text": [
      "  id Feature1 Feature2\n",
      "0  1        A        B\n",
      "1  2        C        D\n",
      "2  3        E        F\n",
      "3  4        G        H\n",
      "4  5        I        J\n",
      "0  1        K        L\n",
      "1  2        M        N\n",
      "2  6        O        P\n",
      "3  7        Q        R\n",
      "4  8        S        T\n"
     ]
    }
   ],
   "source": [
    "dataconcat=pd.concat([dataf1,dataf2])\n",
    "print(dataconcat)#just concats as it is 0,1,2,3,4,0,1,2,3,4\n"
   ]
  },
  {
   "cell_type": "code",
   "execution_count": 46,
   "metadata": {},
   "outputs": [
    {
     "name": "stdout",
     "output_type": "stream",
     "text": [
      "  id Feature1 Feature2\n",
      "0  1        A        B\n",
      "1  2        C        D\n",
      "2  3        E        F\n",
      "3  4        G        H\n",
      "4  5        I        J\n",
      "5  1        K        L\n",
      "6  2        M        N\n",
      "7  6        O        P\n",
      "8  7        Q        R\n",
      "9  8        S        T\n"
     ]
    }
   ],
   "source": [
    "dataconcat=pd.concat([dataf1,dataf2],ignore_index=True)\n",
    "print(dataconcat)#concats by ignoring the index 0,1,2,3,4,5,6,7,8,9\n"
   ]
  },
  {
   "cell_type": "code",
   "execution_count": 47,
   "metadata": {},
   "outputs": [
    {
     "name": "stdout",
     "output_type": "stream",
     "text": [
      "    id Feature1 Feature2\n",
      "x 0  1        A        B\n",
      "  1  2        C        D\n",
      "  2  3        E        F\n",
      "  3  4        G        H\n",
      "  4  5        I        J\n",
      "y 0  1        K        L\n",
      "  1  2        M        N\n",
      "  2  6        O        P\n",
      "  3  7        Q        R\n",
      "  4  8        S        T\n"
     ]
    }
   ],
   "source": [
    "dataconcat=pd.concat([dataf1,dataf2],keys=['x','y'])#concatthe data frame with unique keys for each dataframe\n",
    "print(dataconcat)\n",
    "\n"
   ]
  },
  {
   "cell_type": "code",
   "execution_count": 48,
   "metadata": {},
   "outputs": [
    {
     "name": "stdout",
     "output_type": "stream",
     "text": [
      "  id Feature1 Feature2\n",
      "0  1        K        L\n",
      "1  2        M        N\n",
      "2  6        O        P\n",
      "3  7        Q        R\n",
      "4  8        S        T\n"
     ]
    }
   ],
   "source": [
    "print(dataconcat.loc['y'])\n"
   ]
  },
  {
   "cell_type": "code",
   "execution_count": 49,
   "metadata": {},
   "outputs": [
    {
     "name": "stdout",
     "output_type": "stream",
     "text": [
      "  id Feature1 Feature2 id Feature1 Feature2\n",
      "0  1        A        B  1        K        L\n",
      "1  2        C        D  2        M        N\n",
      "2  3        E        F  6        O        P\n",
      "3  4        G        H  7        Q        R\n",
      "4  5        I        J  8        S        T\n"
     ]
    }
   ],
   "source": [
    "dconcolumn=pd.concat([dataf1,dataf2],axis=1)#concatenate DataFrames along column\n",
    "print(dconcolumn)"
   ]
  },
  {
   "cell_type": "code",
   "execution_count": 50,
   "metadata": {},
   "outputs": [
    {
     "name": "stdout",
     "output_type": "stream",
     "text": [
      "  id Feature1_x Feature2_x Feature1_y Feature2_y\n",
      "0  1          A          B          K          L\n",
      "1  2          C          D          M          N\n"
     ]
    }
   ],
   "source": [
    "#join\n",
    "dajoin1=pd.merge(dataf1,dataf2,on='id',how='inner')\n",
    "print(dajoin1)#prints only the rows that has common id in both data frames\n"
   ]
  },
  {
   "cell_type": "code",
   "execution_count": 51,
   "metadata": {},
   "outputs": [
    {
     "name": "stdout",
     "output_type": "stream",
     "text": [
      "  id Feature1_x Feature2_x Feature1_y Feature2_y\n",
      "0  1          A          B          K          L\n",
      "1  2          C          D          M          N\n",
      "2  3          E          F        NaN        NaN\n",
      "3  4          G          H        NaN        NaN\n",
      "4  5          I          J        NaN        NaN\n",
      "5  6        NaN        NaN          O          P\n",
      "6  7        NaN        NaN          Q          R\n",
      "7  8        NaN        NaN          S          T\n"
     ]
    }
   ],
   "source": [
    "dajoin2=pd.merge(dataf1,dataf2,on='id',how='outer')\n",
    "print(dajoin2)#just merge two dataframes replacing Nan for the id that is not in the dataframe\n"
   ]
  },
  {
   "cell_type": "code",
   "execution_count": 52,
   "metadata": {},
   "outputs": [
    {
     "name": "stdout",
     "output_type": "stream",
     "text": [
      "[[ 0.7193275   0.26548895]\n",
      " [-0.67599871  1.03938936]\n",
      " [-0.18612196 -1.15553829]\n",
      " [-1.05109002  0.49630935]\n",
      " [ 0.14804416  2.17051873]\n",
      " [-0.22829577  1.62069984]\n",
      " [ 0.49570785  1.40678657]\n",
      " [-1.41065618 -0.27053219]\n",
      " [-1.38610654 -1.16993348]\n",
      " [ 1.43179446  0.19781241]\n",
      " [ 0.49170677 -0.52424856]\n",
      " [ 0.07135414  0.91652274]]\n",
      "           a         b\n",
      "0   0.719327  0.265489\n",
      "1  -0.675999  1.039389\n",
      "2  -0.186122 -1.155538\n",
      "3  -1.051090  0.496309\n",
      "4   0.148044  2.170519\n",
      "5  -0.228296  1.620700\n",
      "6   0.495708  1.406787\n",
      "7  -1.410656 -0.270532\n",
      "8  -1.386107 -1.169933\n",
      "9   1.431794  0.197812\n",
      "10  0.491707 -0.524249\n",
      "11  0.071354  0.916523\n",
      "           a         b\n",
      "7  -1.410656 -0.270532\n",
      "8  -1.386107 -1.169933\n",
      "3  -1.051090  0.496309\n",
      "1  -0.675999  1.039389\n",
      "5  -0.228296  1.620700\n",
      "2  -0.186122 -1.155538\n",
      "11  0.071354  0.916523\n",
      "4   0.148044  2.170519\n",
      "10  0.491707 -0.524249\n",
      "6   0.495708  1.406787\n",
      "0   0.719327  0.265489\n",
      "9   1.431794  0.197812\n"
     ]
    }
   ],
   "source": [
    "#Sorting in dataframe\n",
    "import numpy as np\n",
    "d=np.random.randn(24).reshape(12,2)\n",
    "print(d)\n",
    "df=pd.DataFrame(d,columns=['a','b'])\n",
    "print(df)\n",
    "df1=df.sort_values(by=['a'])\n",
    "print(df1)"
   ]
  },
  {
   "cell_type": "code",
   "execution_count": 53,
   "metadata": {},
   "outputs": [
    {
     "name": "stdout",
     "output_type": "stream",
     "text": [
      "     Team  Rank  Year  Points\n",
      "0  Riders     1  2014     876\n",
      "1  Riders     2  2015     789\n",
      "2  Devils     2  2016     863\n",
      "3  Royals     3  2015     673\n",
      "4   Kings     3  2017     741\n",
      "          Rank         Year      Points\n",
      "count  5.00000     5.000000    5.000000\n",
      "mean   2.20000  2015.400000  788.400000\n",
      "std    0.83666     1.140175   84.857528\n",
      "min    1.00000  2014.000000  673.000000\n",
      "25%    2.00000  2015.000000  741.000000\n",
      "50%    2.00000  2015.000000  789.000000\n",
      "75%    3.00000  2016.000000  863.000000\n",
      "max    3.00000  2017.000000  876.000000\n",
      "{'Devils': Int64Index([2], dtype='int64'), 'Kings': Int64Index([4], dtype='int64'), 'Riders': Int64Index([0, 1], dtype='int64'), 'Royals': Int64Index([3], dtype='int64')}\n",
      "        Rank  Year  Points\n",
      "Team                      \n",
      "Devils     2  2016     863\n",
      "Kings      3  2017     741\n",
      "Riders     2  2015     876\n",
      "Royals     3  2015     673\n",
      "Year\n",
      "2014    876\n",
      "2015    731\n",
      "2016    863\n",
      "2017    741\n",
      "Name: Points, dtype: int64\n"
     ]
    }
   ],
   "source": [
    "#GROUP BY\n",
    "ipl_data = {'Team': ['Riders', 'Riders', 'Devils', 'Royals', 'Kings'],\n",
    "   'Rank': [1, 2, 2, 3, 3],\n",
    "   'Year': [2014,2015,2016,2015,2017],\n",
    "   'Points':[876,789,863,673,741]}\n",
    "df = pd.DataFrame(ipl_data)\n",
    "print(df)\n",
    "print(df.describe())\n",
    "df1=df.groupby('Team')\n",
    "print(df1.groups)\n"
   ]
  },
  {
   "cell_type": "code",
   "execution_count": 61,
   "metadata": {},
   "outputs": [
    {
     "name": "stdout",
     "output_type": "stream",
     "text": [
      "        Rank  Year  Points\n",
      "Team                      \n",
      "Devils     2  2016     863\n",
      "Kings      3  2017     741\n",
      "Riders     2  2015     876\n",
      "Royals     3  2015     673\n",
      "{2014: Int64Index([0], dtype='int64'), 2015: Int64Index([1, 3], dtype='int64'), 2016: Int64Index([2], dtype='int64'), 2017: Int64Index([4], dtype='int64')}\n",
      "Year\n",
      "2014    876\n",
      "2015    731\n",
      "2016    863\n",
      "2017    741\n",
      "Name: Points, dtype: int64\n"
     ]
    }
   ],
   "source": [
    "print(df1.max())\n",
    "df2=df.groupby('Year')\n",
    "print(df2.groups)\n",
    "\n",
    "print(df2['Points'].agg(np.mean))\n"
   ]
  },
  {
   "cell_type": "markdown",
   "metadata": {},
   "source": [
    "# Matplotlib"
   ]
  },
  {
   "cell_type": "code",
   "execution_count": 63,
   "metadata": {},
   "outputs": [
    {
     "data": {
      "image/png": "[encoded data removed]",
      "text/plain": [
       "<Figure size 432x288 with 1 Axes>"
      ]
     },
     "metadata": {
      "needs_background": "light"
     },
     "output_type": "display_data"
    }
   ],
   "source": [
    "from matplotlib import pyplot as plt\n",
    "\n",
    "plt.plot([1, 2, 3], [4, 5, 1],'ro')\n",
    "plt.show()"
   ]
  },
  {
   "cell_type": "code",
   "execution_count": 64,
   "metadata": {},
   "outputs": [
    {
     "name": "stdout",
     "output_type": "stream",
     "text": [
      "[0.  0.2 0.4 0.6 0.8 1.  1.2 1.4 1.6 1.8 2.  2.2 2.4 2.6 2.8 3.  3.2 3.4\n",
      " 3.6 3.8 4.  4.2 4.4 4.6 4.8]\n"
     ]
    },
    {
     "data": {
      "image/png": "[encoded data removed]",
      "text/plain": [
       "<Figure size 432x288 with 1 Axes>"
      ]
     },
     "metadata": {
      "needs_background": "light"
     },
     "output_type": "display_data"
    }
   ],
   "source": [
    "import numpy as np\n",
    "import matplotlib.pyplot as plt\n",
    "\n",
    "t = np.arange(0., 5., 0.2)\n",
    "print(t)\n",
    "plt.plot(t, t, 'r--', t, t**2, 'bs', t, t**3, 'g^')\n",
    "plt.show()"
   ]
  },
  {
   "cell_type": "code",
   "execution_count": 65,
   "metadata": {},
   "outputs": [
    {
     "data": {
      "image/png": "[encoded data removed]",
      "text/plain": [
       "<Figure size 432x288 with 1 Axes>"
      ]
     },
     "metadata": {
      "needs_background": "light"
     },
     "output_type": "display_data"
    }
   ],
   "source": [
    "from matplotlib import pyplot as plt\n",
    "x = [5, 8, 10]\n",
    "y = [12, 16, 6]\n",
    "x2 = [6, 9, 11]\n",
    "y2 = [6, 15, 7]\n",
    "plt.plot(x, y, 'g', label='line one', linewidth=3)\n",
    "plt.plot(x2, y2, 'c', label='line two', linewidth=5)\n",
    "plt.title('Epic Info')\n",
    "plt.ylabel('Y axis')\n",
    "plt.xlabel('X axis')\n",
    "plt.legend()\n",
    "plt.grid(True, color='k')\n",
    "plt.show()"
   ]
  },
  {
   "cell_type": "code",
   "execution_count": 68,
   "metadata": {},
   "outputs": [
    {
     "data": {
      "image/png": "[encoded data removed]",
      "text/plain": [
       "<Figure size 432x288 with 1 Axes>"
      ]
     },
     "metadata": {
      "needs_background": "light"
     },
     "output_type": "display_data"
    }
   ],
   "source": [
    "import matplotlib.pyplot as plt\n",
    "#fig = plt.figure()\n",
    "#ax = fig.add_axes([0,0,1,1])\n",
    "langs = ['C', 'C++', 'Java', 'Python', 'PHP']\n",
    "students = [23,17,35,29,12]\n",
    "plt.bar(langs,students, color='g')\n",
    "plt.show()"
   ]
  },
  {
   "cell_type": "code",
   "execution_count": 70,
   "metadata": {},
   "outputs": [
    {
     "data": {
      "image/png": "[encoded data removed]",
      "text/plain": [
       "<Figure size 432x288 with 1 Axes>"
      ]
     },
     "metadata": {
      "needs_background": "light"
     },
     "output_type": "display_data"
    }
   ],
   "source": [
    "#Histogram\n",
    "import matplotlib.pyplot as plt\n",
    "\n",
    "population_age=[22,55,62,45,21,22,34,42,42,4,2,102,95,85,55,110,120,70,65,55,111,115,80,75,65,54,44,43,42,48]\n",
    "bins = [0,10,20,30,40,50,60,70,80,90,100]\n",
    "plt.hist(population_age, bins, rwidth=0.8,color='y')\n",
    "plt.xlabel('age groups')\n",
    "plt.ylabel('Number of people')\n",
    "plt.title('Histogram')\n",
    "plt.show()"
   ]
  },
  {
   "cell_type": "code",
   "execution_count": 36,
   "metadata": {},
   "outputs": [
    {
     "data": {
      "image/png": "[encoded data removed]",
      "text/plain": [
       "<Figure size 432x288 with 1 Axes>"
      ]
     },
     "metadata": {
      "needs_background": "light"
     },
     "output_type": "display_data"
    }
   ],
   "source": [
    "#Scatter Plot\n",
    "import matplotlib.pyplot as plt\n",
    "x = [1, 1.5, 2, 2.5, 3, 3.5, 3.6]\n",
    "y = [7.5, 8, 8.5, 9, 9.5, 10, 10.5]\n",
    "x1 = [8, 8.5, 9, 9.5, 10, 10.5, 11]\n",
    "y1 = [3, 3.5, 3.7, 4, 4.5, 5, 5.2]\n",
    "plt.scatter(x, y, label='high income low saving', color='r')\n",
    "plt.scatter(x1, y1, label='low income high savings', color='b')\n",
    "plt.xlabel('saving')\n",
    "plt.ylabel('income')\n",
    "plt.title('Scatter Plot')\n",
    "plt.legend()\n",
    "plt.show()"
   ]
  },
  {
   "cell_type": "code",
   "execution_count": 71,
   "metadata": {},
   "outputs": [
    {
     "data": {
      "image/png": "[encoded data removed]",
      "text/plain": [
       "<Figure size 432x288 with 1 Axes>"
      ]
     },
     "metadata": {
      "needs_background": "light"
     },
     "output_type": "display_data"
    }
   ],
   "source": [
    "import numpy as np\n",
    "import matplotlib.pyplot as plt\n",
    "\n",
    "# Create data\n",
    "x=range(1,6)\n",
    "y=[1,4,6,8,4]\n",
    "\n",
    "# Area plot\n",
    "plt.fill_between(x, y)\n",
    "plt.show()"
   ]
  },
  {
   "cell_type": "code",
   "execution_count": 75,
   "metadata": {},
   "outputs": [
    {
     "data": {
      "image/png": "[encoded data removed]",
      "text/plain": [
       "<Figure size 432x288 with 1 Axes>"
      ]
     },
     "metadata": {
      "needs_background": "light"
     },
     "output_type": "display_data"
    }
   ],
   "source": [
    "# Area Graph\n",
    "import matplotlib.pyplot as plt\n",
    "\n",
    "fig, ax = plt.subplots()\n",
    "days = [1,2,3,4,5]\n",
    "sleeping = [7,8,6,11,7]\n",
    "eating = [2,3,4,3,2]\n",
    "working = [7,8,7,2,2]\n",
    "playing = [8,5,7,8,13]\n",
    "ax.plot([],[],color='m', label='Sleeping', linewidth=5)\n",
    "ax.plot([],[],color='c', label='Eating', linewidth=5)\n",
    "plt.show()\n",
    "ax.plot([],[],color='r', label='Working', linewidth=5)\n",
    "ax.plot([],[],color='k', label='Playing', linewidth=5)\n",
    "ax.stackplot(days, sleeping,eating,working,playing,colors=['m','c','r','k'])\n",
    "plt.show()\n",
    "\n"
   ]
  },
  {
   "cell_type": "code",
   "execution_count": 40,
   "metadata": {},
   "outputs": [
    {
     "data": {
      "image/png": "[encoded data removed]",
      "text/plain": [
       "<Figure size 360x360 with 1 Axes>"
      ]
     },
     "metadata": {},
     "output_type": "display_data"
    }
   ],
   "source": [
    "#Pie Chart\n",
    "import matplotlib.pyplot as plt\n",
    "slices = [7, 2, 2, 13]\n",
    "activities = ['sleeping', 'eating', 'working', 'playing']\n",
    "cols = ['c', 'm', 'r', 'b']\n",
    "plt.figure(figsize=(5,5))\n",
    "plt.pie(slices,labels=activities,colors=cols,shadow=True,explode=(0.0, 0.0, 0.0,0.0),autopct='%1.2f%%')\n",
    "plt.title('Pie Plot')\n",
    "plt.show()"
   ]
  },
  {
   "cell_type": "code",
   "execution_count": 76,
   "metadata": {},
   "outputs": [
    {
     "data": {
      "image/png": "[encoded data removed]",
      "text/plain": [
       "<Figure size 432x288 with 2 Axes>"
      ]
     },
     "metadata": {
      "needs_background": "light"
     },
     "output_type": "display_data"
    }
   ],
   "source": [
    "#Working with multiple figures\n",
    "import numpy as np\n",
    "import matplotlib.pyplot as plt\n",
    "def f(t):\n",
    "    return np.exp(-t) * np.cos(2*np.pi*t)\n",
    "t1 = np.arange(0.0, 5.0, 0.1)\n",
    "t2 = np.arange(0.0, 5.0, 0.02)\n",
    "plt.figure(1)\n",
    "plt.subplot(211) # separate the plot area inro 2 and this is 1st column plot with 1st row \n",
    "plt.plot(t1, f(t1), 'bo', t2, f(t2), 'k')\n",
    "plt.subplot(212)\n",
    "plt.plot(t2, np.cos(2*np.pi*t2), 'r--')\n",
    "plt.show()"
   ]
  },
  {
   "cell_type": "code",
   "execution_count": null,
   "metadata": {},
   "outputs": [],
   "source": [
    "import numpy as np\n",
    "\n",
    "import matplotlib.pyplot as plt\n",
    "def f(t):\n",
    "return np.exp(-t) * np.cos(2 * np.pi * t)\n",
    "t1 = np.arange(0.0, 5.0, 0.1)\n",
    "t2 = np.arange(0.0, 5.0, 0.02)\n",
    "plt.subplot(221)\n",
    "plt.plot(t1, f(t1), 'bo', t2, f(t2))\n",
    "plt.subplot(222)\n",
    "plt.plot(t2, np.cos(2 * np.pi * t2))\n",
    "plt.subplot(223)\n",
    "plt.plot(t2, np.cos(2 * np.pi * t2))\n",
    "plt.subplot(224)\n",
    "plt.plot(t1, f(t1), 'bo', t2, f(t2))\n",
    "plt.show()"
   ]
  },
  {
   "cell_type": "code",
   "execution_count": 77,
   "metadata": {},
   "outputs": [
    {
     "name": "stderr",
     "output_type": "stream",
     "text": [
      "C:\\Users\\arun\\Anaconda3\\lib\\site-packages\\ipykernel_launcher.py:9: MatplotlibDeprecationWarning: \n",
      "The 'normed' kwarg was deprecated in Matplotlib 2.1 and will be removed in 3.1. Use 'density' instead.\n",
      "  if __name__ == '__main__':\n"
     ]
    },
    {
     "data": {
      "image/png": "[encoded data removed]",
      "text/plain": [
       "<Figure size 432x288 with 1 Axes>"
      ]
     },
     "metadata": {
      "needs_background": "light"
     },
     "output_type": "display_data"
    }
   ],
   "source": [
    "import numpy as np\n",
    "\n",
    "import matplotlib.pyplot as plt\n",
    "np.random.seed(19680801)\n",
    "mu, sigma = 100, 15\n",
    "x = mu + sigma * np.random.randn(10000)\n",
    "\n",
    "# the histogram of the data\n",
    "n, bins, patches = plt.hist(x, 50, normed=1, facecolor='g', alpha=0.75)\n",
    "plt.xlabel('Smarts')\n",
    "plt.ylabel('Probability')\n",
    "plt.title('Histogram of IQ')\n",
    "plt.text(60, .025, 'iTrain')\n",
    "plt.axis([40, 160, 0, 0.03])\n",
    "plt.grid(True)\n",
    "plt.show()"
   ]
  },
  {
   "cell_type": "code",
   "execution_count": 78,
   "metadata": {},
   "outputs": [
    {
     "data": {
      "image/png": "[encoded data removed]",
      "text/plain": [
       "<Figure size 432x288 with 1 Axes>"
      ]
     },
     "metadata": {
      "needs_background": "light"
     },
     "output_type": "display_data"
    }
   ],
   "source": [
    "#Annotatiing Text\n",
    "import numpy as np\n",
    "import matplotlib.pyplot as plt\n",
    "t = np.arange(0.0, 5.0, 0.01)\n",
    "s = np.cos(2*np.pi*t)\n",
    "plt.plot(t, s, lw=2)#line width\n",
    "plt.annotate('local max', xy=(2, 1),xytext=(3, 1.5),arrowprops=dict(facecolor='black'))\n",
    "plt.ylim(-2,2)\n",
    "plt.show()"
   ]
  },
  {
   "cell_type": "code",
   "execution_count": null,
   "metadata": {},
   "outputs": [],
   "source": [
    "#Challenge\n",
    "Challenges\n",
    "\n",
    "• Draw exp function\n",
    "\n",
    "• Draw log function\n",
    "\n",
    "• Draw sin and cos together with different colors\n",
    "\n",
    "• If you have 75 engineers, 50 managers, and 10 accountants, draw\n",
    "a pie chart to show the percentage of employees"
   ]
  }
 ],
 "metadata": {
  "kernelspec": {
   "display_name": "Python 3",
   "language": "python",
   "name": "python3"
  },
  "language_info": {
   "codemirror_mode": {
    "name": "ipython",
    "version": 3
   },
   "file_extension": ".py",
   "mimetype": "text/x-python",
   "name": "python",
   "nbconvert_exporter": "python",
   "pygments_lexer": "ipython3",
   "version": "3.7.4"
  }
 },
 "nbformat": 4,
 "nbformat_minor": 2
}
