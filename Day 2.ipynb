{
 "cells": [
  {
   "cell_type": "markdown",
   "metadata": {},
   "source": [
    "# Functions"
   ]
  },
  {
   "cell_type": "code",
   "execution_count": 2,
   "metadata": {},
   "outputs": [
    {
     "name": "stdout",
     "output_type": "stream",
     "text": [
      "9\n"
     ]
    }
   ],
   "source": [
    "def f(x):\n",
    "  return x*x\n",
    "\n",
    "\n",
    "\n",
    "print (f(3))"
   ]
  },
  {
   "cell_type": "code",
   "execution_count": 2,
   "metadata": {},
   "outputs": [
    {
     "name": "stdout",
     "output_type": "stream",
     "text": [
      "(9, 5)\n"
     ]
    }
   ],
   "source": [
    "def f(x):\n",
    "  return (x*x, 2+x)\n",
    "\n",
    "print (f(3))"
   ]
  },
  {
   "cell_type": "code",
   "execution_count": 5,
   "metadata": {},
   "outputs": [
    {
     "name": "stdout",
     "output_type": "stream",
     "text": [
      "7\n",
      "15\n",
      "24\n",
      "48\n"
     ]
    }
   ],
   "source": [
    "#Passing Named Arguments\n",
    "def add(x, y):\n",
    " z = x + y\n",
    " return z\n",
    "\n",
    "print (add(3, 4))#Passsing with arguments\n",
    "\n",
    "def rect(a=3, b=5):\n",
    "  return a*b\n",
    "\n",
    "print (rect())#Calling without arguments or input\n",
    "print(rect(b=8))\n",
    "print(rect(b=6, a=8))"
   ]
  },
  {
   "cell_type": "code",
   "execution_count": 6,
   "metadata": {},
   "outputs": [
    {
     "name": "stdout",
     "output_type": "stream",
     "text": [
      "17\n"
     ]
    }
   ],
   "source": [
    "def sum1(a,*b): #*b value in the position of b(pointers)*b =address of b\n",
    " s= a #s=8\n",
    " for i in b: #For i in 9\n",
    "    s = s +i\n",
    "    return s\n",
    "\n",
    "\n",
    "\n",
    "print(sum1(8,9))\n",
    "\n"
   ]
  },
  {
   "cell_type": "code",
   "execution_count": 8,
   "metadata": {},
   "outputs": [
    {
     "name": "stdout",
     "output_type": "stream",
     "text": [
      "Yes\n"
     ]
    }
   ],
   "source": [
    "#Challenge\n",
    "#Write a Python function that checks whether a passed string is palindrome or not\n",
    "\n",
    "def isPalindrome(s):\n",
    "    return s == s[::-1]\n",
    "\n",
    "\n",
    "s = \"madam\"\n",
    "ans = isPalindrome(s)\n",
    "if ans:\n",
    "    print(\"Yes\")\n",
    "else:\n",
    "    print(\"No\")"
   ]
  },
  {
   "cell_type": "code",
   "execution_count": 8,
   "metadata": {},
   "outputs": [
    {
     "name": "stdout",
     "output_type": "stream",
     "text": [
      "Minimum of the list -6\n"
     ]
    }
   ],
   "source": [
    "#Given a sequence of variable number of elements, create a function to determine the minimum value\n",
    "def min_check(x):\n",
    "  min_val = x[0] \n",
    "  for check in x: \n",
    "    if check < min_val: \n",
    "      min_val = check \n",
    "  return min_val\n",
    "\n",
    "#List\n",
    "my_list = [2, -6, 8, 14, 3, 77, 63]\n",
    "\n",
    "  #Printing Values\n",
    "print(\"Minimum of the list\", min_check(my_list))\n"
   ]
  },
  {
   "cell_type": "code",
   "execution_count": 9,
   "metadata": {},
   "outputs": [
    {
     "name": "stdout",
     "output_type": "stream",
     "text": [
      "True\n"
     ]
    }
   ],
   "source": [
    "#Write a Python function that takes a number as a parameter and check the number is prime or not\n",
    "def test_prime(n):\n",
    "    if (n==1):\n",
    "        return False\n",
    "    elif (n==2):\n",
    "        return True;\n",
    "    else:\n",
    "        for x in range(2,n):\n",
    "            if(n % x==0):\n",
    "                return False\n",
    "        return True             \n",
    "print(test_prime(5))"
   ]
  },
  {
   "cell_type": "markdown",
   "metadata": {},
   "source": [
    "# Lambda Function"
   ]
  },
  {
   "cell_type": "code",
   "execution_count": 9,
   "metadata": {},
   "outputs": [
    {
     "name": "stdout",
     "output_type": "stream",
     "text": [
      "25\n",
      "35\n"
     ]
    }
   ],
   "source": [
    "f = lambda x: x*x\n",
    "print(f(5))\n",
    "\n",
    "G = lambda x, y: x*y\n",
    "print(G(7,5))\n",
    "\n"
   ]
  },
  {
   "cell_type": "code",
   "execution_count": 11,
   "metadata": {},
   "outputs": [
    {
     "name": "stdout",
     "output_type": "stream",
     "text": [
      "Original list:\n",
      "[1, 2, 3]\n",
      "[10, 20, 30]\n",
      "\n",
      "Result: after adding two list\n",
      "[11, 22, 33]\n"
     ]
    }
   ],
   "source": [
    "#Challenge\n",
    "list_a = [1, 2, 3]\n",
    "list_b = [10, 20, 30]\n",
    "print(\"Original list:\")\n",
    "print(list_a)\n",
    "print(list_b)\n",
    "result = map(lambda x, y: x + y, list_a, list_b)\n",
    "print(\"\\nResult: after adding two list\")\n",
    "print(list(result))"
   ]
  },
  {
   "cell_type": "markdown",
   "metadata": {},
   "source": [
    "# Map Function"
   ]
  },
  {
   "cell_type": "code",
   "execution_count": 15,
   "metadata": {},
   "outputs": [
    {
     "name": "stdout",
     "output_type": "stream",
     "text": [
      "(9, 16, 25, 36, 49)\n"
     ]
    }
   ],
   "source": [
    "a = [3, 4, 5, 6, 7]\n",
    "f = lambda x:x**2\n",
    "\n",
    "\n",
    "print(tuple(map(f,a)))"
   ]
  },
  {
   "cell_type": "code",
   "execution_count": 13,
   "metadata": {},
   "outputs": [
    {
     "name": "stdout",
     "output_type": "stream",
     "text": [
      "[2, 14, 26, 38]\n"
     ]
    }
   ],
   "source": [
    "a = [0,1,2,3]\n",
    "b = [2,4,6,8]\n",
    "G=lambda x,y:10*x+y\n",
    "print(list(map(G, a,b)))"
   ]
  },
  {
   "cell_type": "markdown",
   "metadata": {},
   "source": [
    "# Pythonic programming"
   ]
  },
  {
   "cell_type": "code",
   "execution_count": 20,
   "metadata": {},
   "outputs": [
    {
     "name": "stdout",
     "output_type": "stream",
     "text": [
      "2\n",
      "4\n",
      "6\n",
      "8\n",
      "10\n"
     ]
    }
   ],
   "source": [
    "for i in [1,2,3,4,5,6,7,8,9,10]:\n",
    "    if((i % 2) == 0):\n",
    "        print(i)"
   ]
  },
  {
   "cell_type": "code",
   "execution_count": 25,
   "metadata": {},
   "outputs": [
    {
     "name": "stdout",
     "output_type": "stream",
     "text": [
      "2\n",
      "4\n",
      "6\n",
      "8\n",
      "10\n"
     ]
    },
    {
     "data": {
      "text/plain": [
       "[2, 4, 6, 8, 10]"
      ]
     },
     "execution_count": 25,
     "metadata": {},
     "output_type": "execute_result"
    }
   ],
   "source": [
    "for i in [1,2,3,4,5,6,7,8,9,10]:\n",
    "    if((i % 2) == 0):\n",
    "        print(i)\n",
    "        \n",
    "#[ <expression> for <element> in <iterable> if <condition> ]\n",
    "\n",
    "[i for i in [1,2,3,4,5,6,7,8,9,10] if((i % 2) == 0)]"
   ]
  },
  {
   "cell_type": "code",
   "execution_count": 22,
   "metadata": {},
   "outputs": [
    {
     "name": "stdout",
     "output_type": "stream",
     "text": [
      "[1, 4, 9, 16]\n"
     ]
    }
   ],
   "source": [
    "\n",
    "#List Comprehension\n",
    "squares = [x * x for x in (1,2,3,4)]\n",
    "print (squares)"
   ]
  },
  {
   "cell_type": "code",
   "execution_count": 27,
   "metadata": {},
   "outputs": [
    {
     "name": "stdout",
     "output_type": "stream",
     "text": [
      "['H']\n",
      "H\n"
     ]
    }
   ],
   "source": [
    "s1 = [s.upper() for s in 'hello' if s == 'h']\n",
    "print(s1)\n",
    "\n",
    "for s in 'hello':\n",
    "    if s == 'h':\n",
    "        print(s.upper())\n",
    "    "
   ]
  },
  {
   "cell_type": "code",
   "execution_count": 30,
   "metadata": {},
   "outputs": [
    {
     "name": "stdout",
     "output_type": "stream",
     "text": [
      "['a', '*', '*', 'l', '*']\n",
      "['a']\n",
      "['*']\n",
      "['*']\n",
      "['l']\n",
      "['*']\n"
     ]
    }
   ],
   "source": [
    "s2 = [s if s in 'arial' else '*' for s in 'apple']\n",
    "print(s2)\n",
    "\n",
    "\n",
    "for s in 'apple':\n",
    "    if s in 'arial':\n",
    "        print(list(s))\n",
    "    else:\n",
    "        print(list('*'))\n",
    "\n"
   ]
  },
  {
   "cell_type": "code",
   "execution_count": 17,
   "metadata": {},
   "outputs": [
    {
     "name": "stdout",
     "output_type": "stream",
     "text": [
      "[1, 2, 4, 5, 7, 8, 10, 11, 13, 14, 16, 17, 19, 20]\n"
     ]
    }
   ],
   "source": [
    "#Challenge\n",
    "#Create a list of squares of the numbers from 1 to 20 where you have to include only the numbers that are not divisible by 3.\n",
    "def printValues():\n",
    "    l = list()\n",
    "    for i in range(1,21):\n",
    "       if(i%3!=0):\n",
    "          l.append(i)\n",
    "    print(l)\n",
    "\n",
    "printValues()"
   ]
  },
  {
   "cell_type": "code",
   "execution_count": 18,
   "metadata": {},
   "outputs": [
    {
     "name": "stdout",
     "output_type": "stream",
     "text": [
      "['T', 'i', 'a', 'g', 'd']\n"
     ]
    }
   ],
   "source": [
    "#Use comprehension method to extract the first letter of each word in the sentence below:\n",
    "s = \"Today is a great day\"\n",
    "# Call split with no arguments.\n",
    "words = s.split()\n",
    "s1 = [word[0] for word in words]\n",
    "print(s1)"
   ]
  },
  {
   "cell_type": "code",
   "execution_count": 19,
   "metadata": {},
   "outputs": [
    {
     "name": "stdout",
     "output_type": "stream",
     "text": [
      "[1, 3, 5, 7, 9]\n"
     ]
    }
   ],
   "source": [
    "#Use list comprehension to return a list of odd numbers in the range 0 - 10\n",
    "only_odd = [num for num in range(1,10) if num % 2 == 1]\n",
    "print(only_odd)"
   ]
  },
  {
   "cell_type": "markdown",
   "metadata": {},
   "source": [
    "# Generator Function"
   ]
  },
  {
   "cell_type": "code",
   "execution_count": 31,
   "metadata": {},
   "outputs": [
    {
     "name": "stdout",
     "output_type": "stream",
     "text": [
      "0\n",
      "2\n",
      "4\n",
      "6\n",
      "8\n"
     ]
    }
   ],
   "source": [
    "def range2(n):\n",
    "  for i in range(n):\n",
    "    if i%2 == 0:\n",
    "       yield i\n",
    "\n",
    "for i in range2(10):\n",
    "  print(i)"
   ]
  },
  {
   "cell_type": "code",
   "execution_count": 21,
   "metadata": {},
   "outputs": [
    {
     "name": "stdout",
     "output_type": "stream",
     "text": [
      "['ALLY', 'JANE', 'BELINDA']\n"
     ]
    }
   ],
   "source": [
    "#Challenge\n",
    "Name_list = ['ally', 'jane', 'belinda']  \n",
    "lst = [x.upper() for x in Name_list]\n",
    "# printing output\n",
    "print(lst)"
   ]
  },
  {
   "cell_type": "markdown",
   "metadata": {},
   "source": [
    "# Error Handling"
   ]
  },
  {
   "cell_type": "code",
   "execution_count": 33,
   "metadata": {},
   "outputs": [
    {
     "name": "stdout",
     "output_type": "stream",
     "text": [
      "Zero division error\n"
     ]
    }
   ],
   "source": [
    "try:\n",
    " a = 2/0\n",
    "\n",
    "except ZeroDivisionError:\n",
    "  print (\"Zero division error\")\n",
    "\n",
    "else:\n",
    "  print (\"Correct ....\")"
   ]
  },
  {
   "cell_type": "code",
   "execution_count": 23,
   "metadata": {},
   "outputs": [
    {
     "name": "stdout",
     "output_type": "stream",
     "text": [
      "Index out of range \n"
     ]
    }
   ],
   "source": [
    "#Challenge\n",
    "try:\n",
    " a = [1, 2, 3]\n",
    " b = a[8]\n",
    "\n",
    "except IndexError:\n",
    "  print (\"Index out of range \")\n",
    "\n",
    "else:\n",
    "  print (\"Correct ....\")"
   ]
  },
  {
   "cell_type": "code",
   "execution_count": 24,
   "metadata": {},
   "outputs": [
    {
     "ename": "NameError",
     "evalue": "name 'elem' is not defined",
     "output_type": "error",
     "traceback": [
      "\u001b[1;31m---------------------------------------------------------------------------\u001b[0m",
      "\u001b[1;31mNameError\u001b[0m                                 Traceback (most recent call last)",
      "\u001b[1;32m<ipython-input-24-42d49c55ebc9>\u001b[0m in \u001b[0;36m<module>\u001b[1;34m\u001b[0m\n\u001b[0;32m      1\u001b[0m \u001b[0melements\u001b[0m \u001b[1;33m=\u001b[0m \u001b[1;33m(\u001b[0m\u001b[0mx\u001b[0m \u001b[1;32mfor\u001b[0m \u001b[0mx\u001b[0m \u001b[1;32min\u001b[0m \u001b[0mrange\u001b[0m\u001b[1;33m(\u001b[0m\u001b[1;36m5\u001b[0m\u001b[1;33m)\u001b[0m\u001b[1;33m)\u001b[0m\u001b[1;33m\u001b[0m\u001b[1;33m\u001b[0m\u001b[0m\n\u001b[1;32m----> 2\u001b[1;33m \u001b[1;32mwhile\u001b[0m \u001b[0melem\u001b[0m \u001b[1;32min\u001b[0m \u001b[0melements\u001b[0m\u001b[1;33m:\u001b[0m\u001b[1;33m\u001b[0m\u001b[1;33m\u001b[0m\u001b[0m\n\u001b[0m\u001b[0;32m      3\u001b[0m   \u001b[0mprint\u001b[0m\u001b[1;33m(\u001b[0m\u001b[0melem\u001b[0m\u001b[1;33m)\u001b[0m\u001b[1;33m\u001b[0m\u001b[1;33m\u001b[0m\u001b[0m\n",
      "\u001b[1;31mNameError\u001b[0m: name 'elem' is not defined"
     ]
    }
   ],
   "source": [
    "elements = (x for x in range(5))\n",
    "while elem in elements:\n",
    "  print(elem)"
   ]
  },
  {
   "cell_type": "markdown",
   "metadata": {},
   "source": [
    "# Modules"
   ]
  },
  {
   "cell_type": "code",
   "execution_count": 25,
   "metadata": {},
   "outputs": [
    {
     "name": "stdout",
     "output_type": "stream",
     "text": [
      "0.479425538604203\n"
     ]
    }
   ],
   "source": [
    "import math\n",
    "print(math.sin(0.5))"
   ]
  },
  {
   "cell_type": "code",
   "execution_count": 6,
   "metadata": {},
   "outputs": [],
   "source": [
    "#area_calculation.py\n",
    "import math\n",
    "\n",
    "def calculateAreaCircle(r):\n",
    "    return math.pi*r*r\n",
    "def calculateAreaRectangle(w,h):\n",
    "    return w*h"
   ]
  },
  {
   "cell_type": "code",
   "execution_count": 27,
   "metadata": {},
   "outputs": [
    {
     "ename": "ModuleNotFoundError",
     "evalue": "No module named 'area_calculation'",
     "output_type": "error",
     "traceback": [
      "\u001b[1;31m---------------------------------------------------------------------------\u001b[0m",
      "\u001b[1;31mModuleNotFoundError\u001b[0m                       Traceback (most recent call last)",
      "\u001b[1;32m<ipython-input-27-473786b1b411>\u001b[0m in \u001b[0;36m<module>\u001b[1;34m\u001b[0m\n\u001b[0;32m      1\u001b[0m \u001b[1;31m#area_test.py\u001b[0m\u001b[1;33m\u001b[0m\u001b[1;33m\u001b[0m\u001b[1;33m\u001b[0m\u001b[0m\n\u001b[1;32m----> 2\u001b[1;33m \u001b[1;32mimport\u001b[0m \u001b[0marea_calculation\u001b[0m\u001b[1;33m\u001b[0m\u001b[1;33m\u001b[0m\u001b[0m\n\u001b[0m\u001b[0;32m      3\u001b[0m \u001b[1;32mimport\u001b[0m \u001b[0mmath\u001b[0m\u001b[1;33m\u001b[0m\u001b[1;33m\u001b[0m\u001b[0m\n\u001b[0;32m      4\u001b[0m \u001b[1;33m\u001b[0m\u001b[0m\n\u001b[0;32m      5\u001b[0m \u001b[0mch\u001b[0m\u001b[1;33m=\u001b[0m\u001b[1;33m-\u001b[0m\u001b[1;36m1\u001b[0m\u001b[1;33m\u001b[0m\u001b[1;33m\u001b[0m\u001b[0m\n",
      "\u001b[1;31mModuleNotFoundError\u001b[0m: No module named 'area_calculation'"
     ]
    }
   ],
   "source": [
    "#area_test.py\n",
    "import area_calculation\n",
    "import math\n",
    "\n",
    "ch=-1\n",
    "while ch!=3:\n",
    "    print(\"1. Calculate the area of a circle\")\n",
    "    print(\"2. Calculate the area of a rectangle\")\n",
    "    print(\"3. Exit\")\n",
    "    ch=int(input(\"Your choice: \"))\n",
    "    if ch==1:\n",
    "        r = float(input('\\nEnter the radius of the circle: '))\n",
    "        a=area.calculateAreaCircle(r)\n",
    "        print(f\"\\nThe area of the circle: {a}\\n\")\n",
    "    elif ch==2:\n",
    "        w = float(input('\\nEnter the height of the rectangle: '))\n",
    "        h = float(input('Enter the width of the rectangle: '))\n",
    "        a=area.calculateAreaRectangle(w,h)\n",
    "        print(f\"\\nThe area of the circle: {a}\\n\")"
   ]
  },
  {
   "cell_type": "markdown",
   "metadata": {},
   "source": [
    "# Object Oriented programming"
   ]
  },
  {
   "cell_type": "code",
   "execution_count": 35,
   "metadata": {},
   "outputs": [
    {
     "name": "stdout",
     "output_type": "stream",
     "text": [
      "Hello\n",
      "Harry's current age 10\n",
      "Harry's age after 10 years 20\n"
     ]
    }
   ],
   "source": [
    "#OOPS In Python\n",
    "class Person:\n",
    "    age = 10 # class attribute\n",
    "    def greet(self): #Method  #Function\n",
    "        print('Hello')\n",
    "\n",
    "\n",
    "harry = Person()#  object of Person class  objname= classname()\n",
    "harry.greet() # calling method in the class\n",
    "print(\"Harry's current age\",harry.age)\n",
    "print(\"Harry's age after 10 years\",harry.age+10)"
   ]
  },
  {
   "cell_type": "code",
   "execution_count": 36,
   "metadata": {},
   "outputs": [
    {
     "name": "stdout",
     "output_type": "stream",
     "text": [
      "INitial inc by 1: 1\n",
      "INitial inc by n: 5\n",
      "reset: 0\n"
     ]
    }
   ],
   "source": [
    "#Challenge\n",
    "class Counter:\n",
    "\n",
    "    def first(self):\n",
    "        self._value=0 # initialization\n",
    "    def click(self):\n",
    "        return(self._value+1)\n",
    "    def clickn(self,n):\n",
    "        return(self._value+n)\n",
    "    def reset(self):\n",
    "        return(self._value)\n",
    "     \n",
    "t=Counter()\n",
    "t.first()\n",
    "print(\"INitial inc by 1:\",t.click())\n",
    "print(\"INitial inc by n:\",t.clickn(5))\n",
    "print(\"reset:\",t.reset())"
   ]
  },
  {
   "cell_type": "code",
   "execution_count": 37,
   "metadata": {},
   "outputs": [
    {
     "name": "stdout",
     "output_type": "stream",
     "text": [
      "Sammy is swimming.\n"
     ]
    }
   ],
   "source": [
    "#Instance Attributes\n",
    "\n",
    "class Shark:\n",
    "    def __init__(self, name):#Name is a instance attribute\n",
    "        self.name=name\n",
    "    def swim(self):# Reference the name\n",
    "        print(self.name + \" is swimming.\")\n",
    "    def be_awesome(self):# Reference the name\n",
    "        (self.name + \" is being awesome.\")\n",
    "        \n",
    "sammy = Shark(\"Sammy\")\n",
    "sammy.swim()\n",
    "sammy.be_awesome()"
   ]
  },
  {
   "cell_type": "code",
   "execution_count": 15,
   "metadata": {},
   "outputs": [
    {
     "name": "stdout",
     "output_type": "stream",
     "text": [
      "fish\n",
      "fish\n"
     ]
    }
   ],
   "source": [
    "# Class attributes\n",
    "class Shark:\n",
    "  species = 'fish'# Species is a Class attribute\n",
    "  def __init__(self, name): #name is an instance attribute\n",
    "    self.name = name\n",
    "\n",
    "sammy = Shark(\"Sammy\")\n",
    "print(sammy.species)\n",
    "stevie = Shark(\"Stevie\")\n",
    "print(stevie.species)"
   ]
  },
  {
   "cell_type": "code",
   "execution_count": 23,
   "metadata": {},
   "outputs": [
    {
     "name": "stdout",
     "output_type": "stream",
     "text": [
      "name: Richard, age: 23\n",
      "True\n",
      "False\n"
     ]
    }
   ],
   "source": [
    "#challenge\n",
    "class Person:\n",
    "    driving_age=16\n",
    "    def __init__(self, name, age):#Instance attribute\n",
    "        self.name = name\n",
    "        self.age = age\n",
    "    def print_details(self):# Print peron details\n",
    "        print(f'name: {self.name}, age: {self.age}')\n",
    "    \n",
    "    \n",
    "# A class method to update driving age @classmethod\n",
    "    def update_driving_age(cls, age):\n",
    "        Person.driving_age = age\n",
    "# A static method to check if a Person is adult or not.@staticmethod\n",
    "    def is_adult(age):\n",
    "        return age > 18\n",
    "    def reti_age(age):\n",
    "        return age > 60\n",
    "\n",
    "person1 = Person(\"Richard\", 23)\n",
    "person1.print_details()\n",
    "print(Person.is_adult(22))\n",
    "print(Person.reti_age(56))"
   ]
  },
  {
   "cell_type": "code",
   "execution_count": 25,
   "metadata": {},
   "outputs": [
    {
     "name": "stdout",
     "output_type": "stream",
     "text": [
      "23\n",
      "102\n",
      "Max\n"
     ]
    }
   ],
   "source": [
    "#Inheritance\n",
    "class Person:#parent class\n",
    "    def __init__(self, person_name, person_age):\n",
    "        self.name = person_name\n",
    "        self.age = person_age\n",
    "    def show_name(self):\n",
    "        print(self.name)\n",
    "    def show_age(self):\n",
    "        print(self.age)\n",
    "\n",
    "class Student(Person): #child class\n",
    "    def __init__(self, student_name, student_age, student_id):\n",
    "        super().__init__(student_name, student_age)\n",
    "        self.student_id = student_id\n",
    "    def get_id(self):\n",
    "        return self.student_id\n",
    "\n",
    "person1 = Person(\"Richard\", 23)\n",
    "person1.show_age()\n",
    "student1 = Student(\"Max\", 22, \"102\")\n",
    "print(student1.get_id())\n",
    "student1.show_name()\n"
   ]
  },
  {
   "cell_type": "code",
   "execution_count": 28,
   "metadata": {},
   "outputs": [
    {
     "name": "stdout",
     "output_type": "stream",
     "text": [
      "name: Jake, id: 10001, pay: 250000, jobtitle: Scrum Master, Exp:5\n"
     ]
    }
   ],
   "source": [
    "#Multiple Inheritance\n",
    "class TeamMember(object):\n",
    "    def __init__(self, name, uid):\n",
    "        self.name = name\n",
    "        self.uid = uid\n",
    "class Worker(object):\n",
    "     def __init__(self, pay, jobtitle):\n",
    "        self.pay = pay\n",
    "        self.jobtitle = jobtitle\n",
    "class TeamLeader(TeamMember, Worker):\n",
    "    def __init__(self, name, uid, pay, jobtitle, exp):\n",
    "        self.exp = exp\n",
    "        TeamMember.__init__(self, name, uid)\n",
    "        Worker.__init__(self, pay, jobtitle)\n",
    "    def print_details(self):\n",
    "        print(\"name: {}, id: {}, pay: {}, jobtitle: {}, Exp:{}\".format(self.name, self.uid, self.pay, self.jobtitle, self.exp))\n",
    "\n",
    "tl = TeamLeader('Jake', 10001, 250000, 'Scrum Master', 5)\n",
    "tl.print_details()"
   ]
  },
  {
   "cell_type": "code",
   "execution_count": 32,
   "metadata": {},
   "outputs": [
    {
     "name": "stdout",
     "output_type": "stream",
     "text": [
      "No of employees: 10\n",
      "name: Max, salary: 22000, No of days leave: 12\n"
     ]
    }
   ],
   "source": [
    "#challenge\n",
    "class employee:\n",
    "    no_employees=10   #Class attribute\n",
    "    def __init__(self, name, salary):\n",
    "        self.name = name\n",
    "        self.salary = salary\n",
    "    def show_data(self):\n",
    "        print(\"No of employees:\",self.no_employees)\n",
    "class fulltimeemployee(employee):\n",
    "    def __init__(self, fulltimeemployee_name, fulltimeemployee_salary,fulltimeemployee_noofdaysleave ):\n",
    "        super().__init__(fulltimeemployee_name,fulltimeemployee_salary)\n",
    "        self.noofdaysleave =fulltimeemployee_noofdaysleave \n",
    "    def print_details(self):\n",
    "        print(\"name: {}, salary: {}, No of days leave: {}\".format(self.name, self.salary, self.noofdaysleave))\n",
    "employee1 = employee(\"Richard\", 23000)\n",
    "employee1.show_data()\n",
    "fulltimeemployee1 = fulltimeemployee(\"Max\", 22000, \"12\")\n",
    "fulltimeemployee1.print_details()\n",
    "\n",
    "#print(student1.get_id())\n",
    "#student1.show_name()\n",
    "\n",
    "    \n",
    "\n"
   ]
  },
  {
   "cell_type": "code",
   "execution_count": 33,
   "metadata": {},
   "outputs": [
    {
     "name": "stdout",
     "output_type": "stream",
     "text": [
      "Department of Science, ph.Edward, age: 56, address: London\n"
     ]
    }
   ],
   "source": [
    "#Composition\n",
    "\n",
    "class Professor:\n",
    "    def __init__(self, name, age, address):\n",
    "        self.name = name\n",
    "        self.age = age\n",
    "        self.address = address\n",
    "    def __str__(self):\n",
    "        return f'ph.{self.name}, age: {self.age}, address: {self.address}'\n",
    "\n",
    "class Department:\n",
    "    def __init__(self, name, prof):\n",
    "        self.name = name\n",
    "        self.prof = prof\n",
    "    def __str__(self):\n",
    "        return f'Department of {self.name}, {self.prof}'\n",
    "\n",
    "prof = Professor('Edward', 56, 'London')\n",
    "\n",
    "dep = Department('Science', prof)\n",
    "\n",
    "print(dep)"
   ]
  },
  {
   "cell_type": "code",
   "execution_count": 34,
   "metadata": {},
   "outputs": [
    {
     "ename": "TypeError",
     "evalue": "__init__() takes 3 positional arguments but 8 were given",
     "output_type": "error",
     "traceback": [
      "\u001b[1;31m---------------------------------------------------------------------------\u001b[0m",
      "\u001b[1;31mTypeError\u001b[0m                                 Traceback (most recent call last)",
      "\u001b[1;32m<ipython-input-34-89c5dae4dd6a>\u001b[0m in \u001b[0;36m<module>\u001b[1;34m\u001b[0m\n\u001b[0;32m     19\u001b[0m         \u001b[0mprint\u001b[0m\u001b[1;33m(\u001b[0m\u001b[1;34m\"name: {}, address: {}, salary: {}, id: {}, position:{}, hodname:{},dname:{}\"\u001b[0m\u001b[1;33m.\u001b[0m\u001b[0mformat\u001b[0m\u001b[1;33m(\u001b[0m\u001b[0mself\u001b[0m\u001b[1;33m.\u001b[0m\u001b[0mname\u001b[0m\u001b[1;33m,\u001b[0m \u001b[0mself\u001b[0m\u001b[1;33m.\u001b[0m\u001b[0maddress\u001b[0m\u001b[1;33m,\u001b[0m \u001b[0mself\u001b[0m\u001b[1;33m.\u001b[0m\u001b[0msalary\u001b[0m\u001b[1;33m,\u001b[0m \u001b[0mself\u001b[0m\u001b[1;33m.\u001b[0m\u001b[0mid\u001b[0m\u001b[1;33m,\u001b[0m\u001b[0mself\u001b[0m\u001b[1;33m.\u001b[0m\u001b[0mposition\u001b[0m\u001b[1;33m,\u001b[0m\u001b[0mself\u001b[0m\u001b[1;33m.\u001b[0m\u001b[0mhodname\u001b[0m\u001b[1;33m,\u001b[0m\u001b[0mself\u001b[0m\u001b[1;33m.\u001b[0m\u001b[0mdname\u001b[0m\u001b[1;33m)\u001b[0m\u001b[1;33m)\u001b[0m\u001b[1;33m\u001b[0m\u001b[1;33m\u001b[0m\u001b[0m\n\u001b[0;32m     20\u001b[0m \u001b[1;33m\u001b[0m\u001b[0m\n\u001b[1;32m---> 21\u001b[1;33m \u001b[0mtl\u001b[0m \u001b[1;33m=\u001b[0m \u001b[0mDepartment\u001b[0m\u001b[1;33m(\u001b[0m\u001b[1;34m'Jake'\u001b[0m\u001b[1;33m,\u001b[0m \u001b[1;34m'DownTown'\u001b[0m\u001b[1;33m,\u001b[0m\u001b[1;36m10000\u001b[0m\u001b[1;33m,\u001b[0m\u001b[1;36m110\u001b[0m\u001b[1;33m,\u001b[0m\u001b[1;34m'Professor'\u001b[0m\u001b[1;33m,\u001b[0m\u001b[1;34m'Tom'\u001b[0m\u001b[1;33m,\u001b[0m\u001b[1;34m'Computer Science'\u001b[0m\u001b[1;33m)\u001b[0m\u001b[1;33m\u001b[0m\u001b[1;33m\u001b[0m\u001b[0m\n\u001b[0m\u001b[0;32m     22\u001b[0m \u001b[0mtl\u001b[0m\u001b[1;33m.\u001b[0m\u001b[0mprint_details\u001b[0m\u001b[1;33m(\u001b[0m\u001b[1;33m)\u001b[0m\u001b[1;33m\u001b[0m\u001b[1;33m\u001b[0m\u001b[0m\n",
      "\u001b[1;31mTypeError\u001b[0m: __init__() takes 3 positional arguments but 8 were given"
     ]
    }
   ],
   "source": [
    "#Challenge\n",
    "#Multiple Inheritance\n",
    "class Person(object):\n",
    "    def __init__(self, name, address):\n",
    "        self.name = name\n",
    "        self.address = address\n",
    "class Employ(object):\n",
    "     def __init__(self, salary,id,position):\n",
    "        self.salary = salary\n",
    "        self.id = id\n",
    "        self.position=position\n",
    "class Department(Person,Employ):\n",
    "    def __init__(self,hodname , dname):\n",
    "        self.hodname = hodname\n",
    "        self.dname=dname\n",
    "        Person.__init__(self,name, address)\n",
    "        Employ.__init__(self, salary,id,position)\n",
    "    def print_details(self):\n",
    "        print(\"name: {}, address: {}, salary: {}, id: {}, position:{}, hodname:{},dname:{}\".format(self.name, self.address, self.salary, self.id,self.position,self.hodname,self.dname))\n",
    "        \n",
    "\n",
    "tl = Department('Jake','DownTown',10000,110,'Professor','Tom','Computer Science')\n",
    "tl.print_details()\n"
   ]
  },
  {
   "cell_type": "code",
   "execution_count": null,
   "metadata": {},
   "outputs": [],
   "source": []
  }
 ],
 "metadata": {
  "kernelspec": {
   "display_name": "Python 3",
   "language": "python",
   "name": "python3"
  },
  "language_info": {
   "codemirror_mode": {
    "name": "ipython",
    "version": 3
   },
   "file_extension": ".py",
   "mimetype": "text/x-python",
   "name": "python",
   "nbconvert_exporter": "python",
   "pygments_lexer": "ipython3",
   "version": "3.7.4"
  }
 },
 "nbformat": 4,
 "nbformat_minor": 2
}
