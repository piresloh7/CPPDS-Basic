{
  "nbformat": 4,
  "nbformat_minor": 0,
  "metadata": {
    "colab": {
      "name": "Day 2.ipynb",
      "provenance": [],
      "collapsed_sections": [],
      "include_colab_link": true
    },
    "kernelspec": {
      "name": "python3",
      "display_name": "Python 3"
    },
    "language_info": {
      "name": "python"
    }
  },
  "cells": [
    {
      "cell_type": "markdown",
      "metadata": {
        "id": "view-in-github",
        "colab_type": "text"
      },
      "source": [
        "<a href=\"https://colab.research.google.com/github/SaranyaRavikumar06/CPPDS-Basic/blob/main/Day_2.ipynb\" target=\"_parent\"><img src=\"https://colab.research.google.com/assets/colab-badge.svg\" alt=\"Open In Colab\"/></a>"
      ]
    },
    {
      "cell_type": "code",
      "source": [
        "#FUNCTIONS\n",
        "\n",
        "def f(x):\n",
        "    return (x*x)\n",
        "print(f(3))"
      ],
      "metadata": {
        "colab": {
          "base_uri": "https://localhost:8080/"
        },
        "id": "VkYOkM0Nj5uu",
        "outputId": "5bd7e5a5-7e4a-426e-bf4d-3db84327b2f0"
      },
      "execution_count": null,
      "outputs": [
        {
          "output_type": "stream",
          "name": "stdout",
          "text": [
            "9\n"
          ]
        }
      ]
    },
    {
      "cell_type": "code",
      "source": [
        "def sum1(a,*b):\n",
        " s= a\n",
        " for i in b:\n",
        "  s = s +i\n",
        " return s\n",
        "\n",
        "\n",
        " \n",
        "c=[1,2,3,4]\n",
        "print(sum1(3,*c))"
      ],
      "metadata": {
        "id": "V-Fg_S97kX6V",
        "colab": {
          "base_uri": "https://localhost:8080/"
        },
        "outputId": "6d7dc682-ce3d-4058-e249-bb2ca4370a74"
      },
      "execution_count": null,
      "outputs": [
        {
          "output_type": "stream",
          "name": "stdout",
          "text": [
            "13\n"
          ]
        }
      ]
    },
    {
      "cell_type": "code",
      "source": [
        "def rect(a=3, b=5):\n",
        " return a*b\n",
        "print (rect())\n",
        "print(rect(b=8))\n",
        "print(rect(b=6, a=3))"
      ],
      "metadata": {
        "colab": {
          "base_uri": "https://localhost:8080/"
        },
        "id": "kTKhIpegop-K",
        "outputId": "86ae930e-6982-4231-c80f-32a146df8af7"
      },
      "execution_count": null,
      "outputs": [
        {
          "output_type": "stream",
          "name": "stdout",
          "text": [
            "15\n",
            "24\n",
            "18\n"
          ]
        }
      ]
    },
    {
      "cell_type": "code",
      "source": [
        "def add(x, y):\n",
        " z = x + y\n",
        " return z\n",
        "print (add(3, 4))"
      ],
      "metadata": {
        "colab": {
          "base_uri": "https://localhost:8080/"
        },
        "id": "53UHD6tooRwS",
        "outputId": "9fd81f25-a962-48b6-f992-f8f28fb948de"
      },
      "execution_count": null,
      "outputs": [
        {
          "output_type": "stream",
          "name": "stdout",
          "text": [
            "7\n"
          ]
        }
      ]
    },
    {
      "cell_type": "code",
      "source": [
        "#PALINDROME\n",
        "def isPalindrome(s): \n",
        "      \n",
        "    # Using predefined function to  \n",
        "    # reverse to string print(s) \n",
        "    rev = ''.join(reversed(s)) # reversed ()built in function used with join ()built in function to reverse and handle\n",
        "    print(rev)\n",
        "  \n",
        "    # Checking if both string are  \n",
        "    # equal or not \n",
        "    if (s == rev): \n",
        "        return True\n",
        "    return False\n",
        "  \n",
        "# main function \n",
        "s = \"tamil\"\n",
        "isPalindrome(s)"
      ],
      "metadata": {
        "colab": {
          "base_uri": "https://localhost:8080/"
        },
        "id": "K29oUy7RpqA8",
        "outputId": "20bae023-f8dd-4f2d-cd8b-1316ac9ad77a"
      },
      "execution_count": null,
      "outputs": [
        {
          "output_type": "stream",
          "name": "stdout",
          "text": [
            "limat\n"
          ]
        },
        {
          "output_type": "execute_result",
          "data": {
            "text/plain": [
              "False"
            ]
          },
          "metadata": {},
          "execution_count": 9
        }
      ]
    },
    {
      "cell_type": "code",
      "source": [
        "#Write a Python function that takes a number as a parameter and #check the number is prime or not\n",
        "\n",
        "def test_prime(n):\n",
        "    if (n==1): # neither prime or composite\n",
        "        return False\n",
        "    elif (n==2): # 2 can we divide ,its not prime\n",
        "        return False;\n",
        "    else:\n",
        "        for x in range(2,n): #we divide 3/2 =reminder is 1\n",
        "            if(n % x==0):# compare 1 the reminder with 0 \n",
        "                return False\n",
        "        return True             \n",
        "print(test_prime(11))"
      ],
      "metadata": {
        "colab": {
          "base_uri": "https://localhost:8080/"
        },
        "id": "afMUuVDAtduM",
        "outputId": "dd89f4d7-a1ec-40df-cd27-01547f4555b2"
      },
      "execution_count": null,
      "outputs": [
        {
          "output_type": "stream",
          "name": "stdout",
          "text": [
            "True\n"
          ]
        }
      ]
    },
    {
      "cell_type": "code",
      "source": [
        "G=lambda x,y:x*y\n",
        "print (G (3,4))"
      ],
      "metadata": {
        "colab": {
          "base_uri": "https://localhost:8080/"
        },
        "id": "b1R2Jp2KwjoH",
        "outputId": "c23db2a1-8d02-4cf4-f0a0-10fffbadfb37"
      },
      "execution_count": null,
      "outputs": [
        {
          "output_type": "stream",
          "name": "stdout",
          "text": [
            "12\n"
          ]
        }
      ]
    },
    {
      "cell_type": "code",
      "source": [
        "#Lambda function\n",
        "l1=[1,2,3]\n",
        "l2=[10,20,30]\n",
        "f=lambda l1,l2:l1+l2\n",
        "#def f(l1,l2):\n",
        "#return l1+l2\n",
        "print(list(map(f,l1,l2)))\n",
        "print(tuple(map(f,l1,l2)))"
      ],
      "metadata": {
        "colab": {
          "base_uri": "https://localhost:8080/"
        },
        "id": "pWx6PId_vl3Y",
        "outputId": "8f35a14a-1f64-49e1-99ca-be169ebbc321"
      },
      "execution_count": null,
      "outputs": [
        {
          "output_type": "stream",
          "name": "stdout",
          "text": [
            "[11, 22, 33]\n",
            "(11, 22, 33)\n"
          ]
        }
      ]
    },
    {
      "cell_type": "code",
      "source": [
        "a = [0,1,2,3] \n",
        "b = [2,4,6,8] \n",
        "print(list(map(lambda x,y:10*x+y, a,b))) # bodmas 10*0+2,10*1+4 ,10*2+6 ,10*3+8"
      ],
      "metadata": {
        "colab": {
          "base_uri": "https://localhost:8080/"
        },
        "id": "q6Va_QRRxzXa",
        "outputId": "be865f06-8a3b-4ffd-b2a5-bb38facfe8a7"
      },
      "execution_count": null,
      "outputs": [
        {
          "output_type": "stream",
          "name": "stdout",
          "text": [
            "[2, 14, 26, 38]\n"
          ]
        }
      ]
    },
    {
      "cell_type": "code",
      "source": [
        "#MAP FUNCTION\n",
        "a = [3, 4, 5, 6, 7]\n",
        "f = lambda x:x**2 # double star is power of \n",
        "print(list(map(f,a)))"
      ],
      "metadata": {
        "colab": {
          "base_uri": "https://localhost:8080/"
        },
        "id": "l_SsCpHyxgCP",
        "outputId": "712fff8d-9aa7-4fcc-f373-9654ddbdbc61"
      },
      "execution_count": null,
      "outputs": [
        {
          "output_type": "stream",
          "name": "stdout",
          "text": [
            "[9, 16, 25, 36, 49]\n"
          ]
        }
      ]
    },
    {
      "cell_type": "code",
      "execution_count": null,
      "metadata": {
        "colab": {
          "base_uri": "https://localhost:8080/",
          "height": 235
        },
        "id": "V23O2g98Q_6b",
        "outputId": "d557ecd9-99ad-491d-fada-2828fb767f04"
      },
      "outputs": [
        {
          "output_type": "error",
          "ename": "NameError",
          "evalue": "ignored",
          "traceback": [
            "\u001b[0;31m---------------------------------------------------------------------------\u001b[0m",
            "\u001b[0;31mNameError\u001b[0m                                 Traceback (most recent call last)",
            "\u001b[0;32m<ipython-input-3-dc2c31509704>\u001b[0m in \u001b[0;36m<module>\u001b[0;34m()\u001b[0m\n\u001b[1;32m      1\u001b[0m \u001b[0;34m\u001b[0m\u001b[0m\n\u001b[1;32m      2\u001b[0m \u001b[0;34m\u001b[0m\u001b[0m\n\u001b[0;32m----> 3\u001b[0;31m \u001b[0mans\u001b[0m \u001b[0;34m=\u001b[0m \u001b[0misPalindrome\u001b[0m\u001b[0;34m(\u001b[0m\u001b[0ms\u001b[0m\u001b[0;34m)\u001b[0m\u001b[0;34m\u001b[0m\u001b[0;34m\u001b[0m\u001b[0m\n\u001b[0m\u001b[1;32m      4\u001b[0m \u001b[0;34m\u001b[0m\u001b[0m\n\u001b[1;32m      5\u001b[0m \u001b[0;32mif\u001b[0m \u001b[0;34m(\u001b[0m\u001b[0mans\u001b[0m\u001b[0;34m)\u001b[0m\u001b[0;34m:\u001b[0m\u001b[0;34m\u001b[0m\u001b[0;34m\u001b[0m\u001b[0m\n",
            "\u001b[0;31mNameError\u001b[0m: name 'isPalindrome' is not defined"
          ]
        }
      ],
      "source": [
        "\n",
        "\n",
        "ans = isPalindrome(s) \n",
        "  \n",
        "if (ans): \n",
        "    print(\"Yes\") \n",
        "else: \n",
        "    print(\"No\") \n",
        "\n",
        "#Give a sequence of variable number of elements, create a function #to determine the minimum value\n",
        "def f2(x):\n",
        "    return min(x)\n",
        "print(f2([90,3,5,2,8]))\n",
        "\n",
        "\n",
        "\n",
        "\n",
        "\n",
        "\n",
        "\n",
        "\n",
        "\n",
        "\n",
        "\n",
        "\n",
        "\n",
        "\n",
        "\n",
        "\n",
        "\n",
        "\n",
        "\n",
        "\n",
        "\n",
        "\n",
        "\n",
        "\n",
        "\n",
        "\n",
        "\n",
        "\n",
        "\n",
        "\n",
        "\n",
        "\n",
        "\n",
        "\n",
        "fo.close()"
      ]
    }
  ]
}